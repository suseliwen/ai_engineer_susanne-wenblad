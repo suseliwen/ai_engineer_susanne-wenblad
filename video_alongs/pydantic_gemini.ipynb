{
 "cells": [
  {
   "cell_type": "markdown",
   "id": "ae3cb29c",
   "metadata": {},
   "source": [
    "### Pydantic med gemini"
   ]
  },
  {
   "cell_type": "code",
   "execution_count": 1,
   "id": "889709b2",
   "metadata": {},
   "outputs": [
    {
     "data": {
      "text/plain": [
       "True"
      ]
     },
     "execution_count": 1,
     "metadata": {},
     "output_type": "execute_result"
    }
   ],
   "source": [
    "from dotenv import load_dotenv\n",
    "import os\n",
    "from google import genai\n",
    "\n",
    "load_dotenv()\n",
    "\n",
    "#os.getenv(\"GEMINI_API_KEY\") #DÖLJ ALLTID NÄR KOD PUSHAS TILL GITHUB!!!"
   ]
  },
  {
   "cell_type": "code",
   "execution_count": 2,
   "id": "2575bd21",
   "metadata": {},
   "outputs": [],
   "source": [
    "client = genai.Client(api_key = os.getenv(\"GEMINI_API_KEY\"))"
   ]
  },
  {
   "cell_type": "code",
   "execution_count": 3,
   "id": "922df147",
   "metadata": {},
   "outputs": [
    {
     "name": "stdout",
     "output_type": "stream",
     "text": [
      "Why do programmers prefer dark mode?\n",
      "\n",
      "Because light attracts bugs!\n"
     ]
    }
   ],
   "source": [
    "from certifi import contents\n",
    "\n",
    "\n",
    "response = client.models.generate_content(\n",
    "    model = \"gemini-2.5-flash\", contents = \"tell me a programming joke\")\n",
    "\n",
    "print(response.text)"
   ]
  },
  {
   "cell_type": "code",
   "execution_count": 4,
   "id": "a7110e53",
   "metadata": {},
   "outputs": [
    {
     "name": "stdout",
     "output_type": "stream",
     "text": [
      "```json\n",
      "{\n",
      "  \"name\": \"Susys library\",\n",
      "  \"books\": [\n",
      "    {\n",
      "      \"title\": \"To Kill a Mockingbird\",\n",
      "      \"author\": \"Harper Lee\",\n",
      "      \"year\": 1960\n",
      "    },\n",
      "    {\n",
      "      \"title\": \"1984\",\n",
      "      \"author\": \"George Orwell\",\n",
      "      \"year\": 1949\n",
      "    },\n",
      "    {\n",
      "      \"title\": \"Pride and Prejudice\",\n",
      "      \"author\": \"Jane Austen\",\n",
      "      \"year\": 1813\n",
      "    },\n",
      "    {\n",
      "      \"title\": \"The Great Gatsby\",\n",
      "      \"author\": \"F. Scott Fitzgerald\",\n",
      "      \"year\": 1925\n",
      "    },\n",
      "    {\n",
      "      \"title\": \"Moby Dick\",\n",
      "      \"author\": \"Herman Melville\",\n",
      "      \"year\": 1851\n",
      "    },\n",
      "    {\n",
      "      \"title\": \"War and Peace\",\n",
      "      \"author\": \"Leo Tolstoy\",\n",
      "      \"year\": 1869\n",
      "    },\n",
      "    {\n",
      "      \"title\": \"The Catcher in the Rye\",\n",
      "      \"author\": \"J.D. Salinger\",\n",
      "      \"year\": 1951\n",
      "    },\n",
      "    {\n",
      "      \"title\": \"Harry Potter and the Sorcerer's Stone\",\n",
      "      \"author\": \"J.K. Rowling\",\n",
      "      \"year\": 1997\n",
      "    },\n",
      "    {\n",
      "      \"title\": \"The Lord of the Rings\",\n",
      "      \"author\": \"J.R.R. Tolkien\",\n",
      "      \"year\": 1954\n",
      "    },\n",
      "    {\n",
      "      \"title\": \"Dune\",\n",
      "      \"author\": \"Frank Herbert\",\n",
      "      \"year\": 1965\n",
      "    }\n",
      "  ]\n",
      "}\n",
      "```\n"
     ]
    }
   ],
   "source": [
    "response = client.models.generate_content(\n",
    "    model = \"gemini-2.5-flash\", contents = \"\"\"\n",
    "    You are ate helpful assistan.t I need you to create at JSON object representing av library. \n",
    "    The library's name should be \"Susys library\" and have the fields name and books tha contains a list od books. \n",
    "    each book should have a 'title', 'author' and 'year' field. Make sure the output is a single, valid book. \n",
    "    Give me 10 books. \n",
    "\"\"\")\n",
    "\n",
    "print(response.text)"
   ]
  },
  {
   "cell_type": "markdown",
   "id": "787f16db",
   "metadata": {},
   "source": [
    "NTS --> FORTSÄTT VID 10:36 i video_alongen"
   ]
  }
 ],
 "metadata": {
  "kernelspec": {
   "display_name": "venv",
   "language": "python",
   "name": "python3"
  },
  "language_info": {
   "codemirror_mode": {
    "name": "ipython",
    "version": 3
   },
   "file_extension": ".py",
   "mimetype": "text/x-python",
   "name": "python",
   "nbconvert_exporter": "python",
   "pygments_lexer": "ipython3",
   "version": "3.13.3"
  }
 },
 "nbformat": 4,
 "nbformat_minor": 5
}
