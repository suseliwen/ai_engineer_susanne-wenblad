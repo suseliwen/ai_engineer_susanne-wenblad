{
 "cells": [
  {
   "cell_type": "markdown",
   "id": "879f61dd",
   "metadata": {},
   "source": [
    "### Excercise 1b   \n",
    "Create a function for training a regression model, predicting and computing the metrics MAE, MSE, RMSE.   \n",
    "It should take in parameters of X_train, X_test, y_train, y_test, model.   \n",
    "Now create a linear regression model using scikit-learns LinearRegression() (OLS normal equation with SVD) and call your function to get metrics."
   ]
  },
  {
   "cell_type": "code",
   "execution_count": null,
   "id": "981a8b3b",
   "metadata": {},
   "outputs": [],
   "source": [
    "import pandas as pd\n",
    "import numpy as np\n",
    "\n",
    "def fit_model(model, X_train, y_train):\n",
    "    \"\"\"Tränar modellen på träningsdatan och returnerar samma (nu tränade) modell\"\"\"\n",
    "    y_train = np.asarray(y_train).ravel()\n",
    "    model.fit(X_train, y_train)\n",
    "    return model\n",
    "\n",
    "\n",
    "def predict_with(model, X_test):\n",
    "    \"\"\"\n",
    "    Tar en tränad modell och X_test, returnerar prediktioner som 1D-array.\n",
    "    \"\"\"\n",
    "    y_pred = model.predict(X_test)\n",
    "    return np.asarray(y_pred).ravel()\n",
    "\n"
   ]
  },
  {
   "cell_type": "code",
   "execution_count": 23,
   "id": "4781a822",
   "metadata": {},
   "outputs": [],
   "source": [
    "import numpy as np\n",
    "import pandas as pd\n",
    "from sklearn.model_selection import train_test_split\n",
    "from sklearn.linear_model import LinearRegression\n",
    "\n",
    "data = {\n",
    "    \"years_experience\": [1,2,3,4,5,6,7,8,9,10],\n",
    "    \"salary\": [25000,27000,30000,31500,34000,36000,39000,41000,44000,47000]\n",
    "}\n",
    "df = pd.DataFrame(data)\n",
    "\n",
    "X = df[[\"years_experience\"]]  # 2D\n",
    "y = df[\"salary\"]              # 1D\n",
    "\n"
   ]
  },
  {
   "cell_type": "code",
   "execution_count": 24,
   "id": "908316d4",
   "metadata": {},
   "outputs": [
    {
     "name": "stdout",
     "output_type": "stream",
     "text": [
      "(6, 1) (4, 1) (6,) (4,)\n"
     ]
    }
   ],
   "source": [
    "X_train, X_test, y_train, y_test = train_test_split(\n",
    "    X, y, test_size=0.33, random_state=42\n",
    ")\n",
    "\n",
    "print(X_train.shape, X_test.shape, y_train.shape, y_test.shape)\n",
    "# förväntat ungefär: (7, 1) (3, 1) (7,) (3,)"
   ]
  },
  {
   "cell_type": "code",
   "execution_count": 25,
   "id": "7cf3b7ab",
   "metadata": {},
   "outputs": [
    {
     "name": "stdout",
     "output_type": "stream",
     "text": [
      "y_pred: [43990.43062201 26925.83732057 36677.03349282 24488.03827751]\n",
      "coef (k): [2437.79904306]\n",
      "intercept (m): 22050.239234449764\n"
     ]
    }
   ],
   "source": [
    "def predict_with(model, X_test):\n",
    "    y_pred = model.predict(X_test)\n",
    "    return np.asarray(y_pred).ravel()\n",
    "\n",
    "model = LinearRegression()\n",
    "model = fit_model(model, X_train, y_train)  # tränar\n",
    "y_pred = predict_with(model, X_test)        # prediktioner\n",
    "\n",
    "print(\"y_pred:\", y_pred)\n",
    "print(\"coef (k):\", model.coef_.ravel())\n",
    "print(\"intercept (m):\", model.intercept_)"
   ]
  },
  {
   "cell_type": "code",
   "execution_count": 26,
   "id": "ea657616",
   "metadata": {},
   "outputs": [
    {
     "name": "stdout",
     "output_type": "stream",
     "text": [
      "residualer: [   9.56937799   74.16267943 -677.03349282  511.96172249]\n"
     ]
    }
   ],
   "source": [
    "def residuals(y_true, y_pred):\n",
    "    \"\"\"Beräkna fel per observation: verkligt - prediktion.\"\"\"\n",
    "    y_true = np.asarray(y_true).ravel()\n",
    "    y_pred = np.asarray(y_pred).ravel()\n",
    "    return y_true - y_pred\n",
    "\n",
    "\n",
    "res = residuals(y_test, y_pred)\n",
    "print(\"residualer:\", res)"
   ]
  },
  {
   "cell_type": "code",
   "execution_count": 27,
   "id": "353012af",
   "metadata": {},
   "outputs": [],
   "source": [
    "def mae(res):\n",
    "    \"\"\"Mean Absolute Error.\"\"\"\n",
    "    return np.mean(np.abs(res))\n",
    "\n",
    "def mse(res):\n",
    "    \"\"\"Mean Squared Error.\"\"\"\n",
    "    return np.mean(res**2)\n",
    "\n",
    "def rmse(res):\n",
    "    \"\"\"Root Mean Squared Error.\"\"\"\n",
    "    return np.sqrt(mse(res))"
   ]
  },
  {
   "cell_type": "code",
   "execution_count": 28,
   "id": "84a3bc40",
   "metadata": {},
   "outputs": [
    {
     "name": "stdout",
     "output_type": "stream",
     "text": [
      "Medel residual: -20.33492822966946\n",
      "MAE: 318.1818181818162\n",
      "MSE: 181517.7079279326\n",
      "RMSE: 426.04895015471243\n",
      "Max |fel|: 677.0334928229713\n"
     ]
    }
   ],
   "source": [
    "res = residuals(y_test, y_pred)\n",
    "print(\"Medel residual:\", np.mean(res))\n",
    "print(\"MAE:\", mae(res))\n",
    "print(\"MSE:\", mse(res))\n",
    "print(\"RMSE:\", rmse(res))\n",
    "print(\"Max |fel|:\", np.max(np.abs(res)))"
   ]
  },
  {
   "cell_type": "code",
   "execution_count": 29,
   "id": "f761215c",
   "metadata": {},
   "outputs": [],
   "source": [
    "def compute_metrics(y_true, y_pred):\n",
    "    res = residuals(y_true, y_pred)\n",
    "    return {\n",
    "        \"mean_residual\": float(np.mean(res)),\n",
    "        \"MAE\": float(mae(res)),\n",
    "        \"MSE\": float(mse(res)),\n",
    "        \"RMSE\": float(rmse(res)),\n",
    "        \"max_abs_error\": float(np.max(np.abs(res))),\n",
    "    }"
   ]
  },
  {
   "cell_type": "code",
   "execution_count": 30,
   "id": "345c4bf3",
   "metadata": {},
   "outputs": [
    {
     "name": "stdout",
     "output_type": "stream",
     "text": [
      "mean_residual: -20.335\n",
      "MAE: 318.182\n",
      "MSE: 181517.708\n",
      "RMSE: 426.049\n",
      "max_abs_error: 677.033\n"
     ]
    }
   ],
   "source": [
    "metrics = compute_metrics(y_test, y_pred)\n",
    "for k, v in metrics.items():\n",
    "    print(f\"{k}: {v:.3f}\")"
   ]
  },
  {
   "cell_type": "code",
   "execution_count": 31,
   "id": "cd9cea01",
   "metadata": {},
   "outputs": [],
   "source": [
    "def evaluate_regression(X_train, X_test, y_train, y_test, model):\n",
    "    \"\"\"\n",
    "    Tränar modellen, gör prediktioner på X_test, och returnerar MAE/MSE/RMSE.\n",
    "    Förutsätter att hjälpfunktionerna finns: fit_model, predict_with, residuals, mae, mse, rmse.\n",
    "    \"\"\"\n",
    "    # 1) träna\n",
    "    model = fit_model(model, X_train, y_train)\n",
    "    # 2) predicera\n",
    "    y_pred = predict_with(model, X_test)\n",
    "    # 3) residualer -> metrics\n",
    "    res = residuals(y_test, y_pred)\n",
    "    return {\n",
    "        \"MAE\": float(mae(res)),\n",
    "        \"MSE\": float(mse(res)),\n",
    "        \"RMSE\": float(rmse(res)),\n",
    "    }"
   ]
  },
  {
   "cell_type": "code",
   "execution_count": 32,
   "id": "26cfcb9b",
   "metadata": {},
   "outputs": [
    {
     "name": "stdout",
     "output_type": "stream",
     "text": [
      "{'MAE': 318.1818181818162, 'MSE': 181517.7079279326, 'RMSE': 426.04895015471243}\n"
     ]
    }
   ],
   "source": [
    "from sklearn.linear_model import LinearRegression\n",
    "\n",
    "linreg = LinearRegression()\n",
    "metrics = evaluate_regression(X_train, X_test, y_train, y_test, linreg)\n",
    "print(metrics)"
   ]
  },
  {
   "cell_type": "code",
   "execution_count": 33,
   "id": "b14abb42",
   "metadata": {},
   "outputs": [],
   "source": [
    "from sklearn.linear_model import LinearRegression\n",
    "linreg = LinearRegression()  # fit_intercept=True som standard"
   ]
  },
  {
   "cell_type": "code",
   "execution_count": 34,
   "id": "43ccf419",
   "metadata": {},
   "outputs": [
    {
     "name": "stdout",
     "output_type": "stream",
     "text": [
      "MAE: 318.182\n",
      "MSE: 181517.708\n",
      "RMSE: 426.049\n"
     ]
    }
   ],
   "source": [
    "metrics = evaluate_regression(X_train, X_test, y_train, y_test, linreg)\n",
    "for k, v in metrics.items():\n",
    "    print(f\"{k}: {v:.3f}\")"
   ]
  },
  {
   "cell_type": "code",
   "execution_count": 35,
   "id": "d9a04d47",
   "metadata": {},
   "outputs": [
    {
     "name": "stdout",
     "output_type": "stream",
     "text": [
      "koefficient(er): [2437.79904306]\n",
      "intercept: 22050.239234449764\n"
     ]
    }
   ],
   "source": [
    "print(\"koefficient(er):\", linreg.coef_.ravel())\n",
    "print(\"intercept:\", linreg.intercept_)"
   ]
  },
  {
   "cell_type": "code",
   "execution_count": 36,
   "id": "e8dd42fa",
   "metadata": {},
   "outputs": [],
   "source": [
    "import numpy as np\n",
    "\n",
    "def make_regression_line(model, x_min, x_max, n_points=100):\n",
    "    \"\"\"Skapar x- och y-värden för att rita modellens raka linje.\"\"\"\n",
    "    x_line = np.linspace(x_min, x_max, n_points)      # jämnt utspridda x\n",
    "    x_line_2d = x_line.reshape(-1, 1)                  # (n,1) för sklearn\n",
    "    y_line = model.predict(x_line_2d)                  # modellens linje\n",
    "    return x_line, y_line\n"
   ]
  },
  {
   "cell_type": "code",
   "execution_count": 37,
   "id": "f6077035",
   "metadata": {},
   "outputs": [
    {
     "name": "stderr",
     "output_type": "stream",
     "text": [
      "c:\\Users\\susan\\KodPython\\ai_engineering_susanne_wenblad\\venv\\Lib\\site-packages\\sklearn\\utils\\validation.py:2749: UserWarning: X does not have valid feature names, but LinearRegression was fitted with feature names\n",
      "  warnings.warn(\n"
     ]
    }
   ],
   "source": [
    "x_min = float(X[\"years_experience\"].min())\n",
    "x_max = float(X[\"years_experience\"].max())\n",
    "\n",
    "x_line, y_line = make_regression_line(model, x_min, x_max)\n"
   ]
  },
  {
   "cell_type": "code",
   "execution_count": 38,
   "id": "a40a5d56",
   "metadata": {},
   "outputs": [
    {
     "data": {
      "image/png": "[encoded data removed]",
      "text/plain": [
       "<Figure size 640x480 with 1 Axes>"
      ]
     },
     "metadata": {},
     "output_type": "display_data"
    }
   ],
   "source": [
    "import matplotlib.pyplot as plt\n",
    "\n",
    "plt.figure()\n",
    "plt.scatter(X_train[\"years_experience\"], y_train, label=\"Train\")\n",
    "plt.scatter(X_test[\"years_experience\"],  y_test,  label=\"Test\")\n",
    "plt.plot(x_line, y_line, label=\"LinReg-linje\")\n",
    "plt.xlabel(\"Years of experience\")\n",
    "plt.ylabel(\"Salary\")\n",
    "plt.title(\"Linear regression: Salary vs. Experience\")\n",
    "plt.legend()\n",
    "plt.show()\n"
   ]
  }
 ],
 "metadata": {
  "kernelspec": {
   "display_name": "venv",
   "language": "python",
   "name": "python3"
  },
  "language_info": {
   "codemirror_mode": {
    "name": "ipython",
    "version": 3
   },
   "file_extension": ".py",
   "mimetype": "text/x-python",
   "name": "python",
   "nbconvert_exporter": "python",
   "pygments_lexer": "ipython3",
   "version": "3.13.3"
  }
 },
 "nbformat": 4,
 "nbformat_minor": 5
}
