{
 "cells": [
  {
   "cell_type": "markdown",
   "id": "5ab155d7",
   "metadata": {},
   "source": [
    "### Use KNN to classify iris dataset\n",
    "\n"
   ]
  },
  {
   "cell_type": "code",
   "execution_count": null,
   "id": "8aa5dba9",
   "metadata": {},
   "outputs": [],
   "source": [
    "import matplotlib.pyplot as plt\n",
    "from sklearn.model_selection import train_test_split\n",
    "from sklearn.linear_model import LinearRegression\n",
    "from sklearn.metrics import mean_squared_error, r2_score\n",
    "# För skalning och kategoriska variabler\n",
    "from sklearn.preprocessing import MinMaxScaler, OneHotEncoder\n",
    "from sklearn.compose import ColumnTransformer\n",
    "from sklearn.pipeline import Pipeline\n",
    "from sklearn.datasets import load_iris\n",
    "from sklearn.neighbors import KNeighborsClassifier"
   ]
  },
  {
   "cell_type": "markdown",
   "id": "b71cf3d5",
   "metadata": {},
   "source": [
    "##### Ladda hem datasetet från sklearn och skapa en dataframe\n",
    "Dela upp datan i X(features) och y(target)"
   ]
  },
  {
   "cell_type": "code",
   "execution_count": null,
   "id": "2c2b3f6d",
   "metadata": {},
   "outputs": [],
   "source": [
    "df = load_iris(as_frame = True).frame\n",
    "\n",
    "X, y = df.drop(\"target\", axis = \"columns\"), df[\"target\"]\n",
    "\n",
    "X.head(), y.head()"
   ]
  },
  {
   "cell_type": "markdown",
   "id": "c8ee7d09",
   "metadata": {},
   "source": [
    "##### Splitta upp datan i träning och test"
   ]
  },
  {
   "cell_type": "code",
   "execution_count": null,
   "id": "96c656fd",
   "metadata": {},
   "outputs": [],
   "source": [
    "\n",
    "X_train, X_test, y_train, y_test = train_test_split(\n",
    "    X, y, test_size=0.33, random_state=42\n",
    ")\n",
    "\n",
    "print(f\"{X_train.shape = }\")\n",
    "print(f\"{X_test.shape = }\")\n",
    "print(f\"{y_train.shape = }\")\n",
    "print(f\"{y_test.shape = }\")"
   ]
  }
 ],
 "metadata": {
  "kernelspec": {
   "display_name": "venv",
   "language": "python",
   "name": "python3"
  },
  "language_info": {
   "codemirror_mode": {
    "name": "ipython",
    "version": 3
   },
   "file_extension": ".py",
   "mimetype": "text/x-python",
   "name": "python",
   "nbconvert_exporter": "python",
   "pygments_lexer": "ipython3",
   "version": "3.13.3"
  }
 },
 "nbformat": 4,
 "nbformat_minor": 5
}
