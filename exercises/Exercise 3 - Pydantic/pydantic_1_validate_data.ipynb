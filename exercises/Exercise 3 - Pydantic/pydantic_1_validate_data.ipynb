{
 "cells": [
  {
   "cell_type": "markdown",
   "id": "a190872d",
   "metadata": {},
   "source": [
    "### 1. Validate data from API using Pydantic\n",
    "Use this code snippet to get a random dad joke:   \n",
    "\n",
    "import requests   \n",
    "\n",
    "headers = {\"Accept\": \"application/json\"}   \n",
    "response = requests.get(\"https://icanhazdadjoke.com/\", headers=headers)   \n",
    "\n",
    "print(response.json())   "
   ]
  },
  {
   "cell_type": "code",
   "execution_count": 6,
   "id": "3f317cec",
   "metadata": {},
   "outputs": [
    {
     "name": "stdout",
     "output_type": "stream",
     "text": [
      "{'id': 'MeaFYLBAQuc', 'joke': \"Have you heard the rumor going around about butter? Never mind, I shouldn't spread it.\", 'status': 200}\n"
     ]
    }
   ],
   "source": [
    "import requests   \n",
    "\n",
    "headers = {\"Accept\": \"application/json\"}   \n",
    "response = requests.get(\"https://icanhazdadjoke.com/\", headers=headers)   \n",
    "\n",
    "print(response.json())  "
   ]
  },
  {
   "cell_type": "markdown",
   "id": "88b570ed",
   "metadata": {},
   "source": [
    "a) Create a Pydantic model with name Joke with the following fields\n",
    "\n",
    "- id with type integer\n",
    "- joke with type string"
   ]
  },
  {
   "cell_type": "code",
   "execution_count": 7,
   "id": "9f25fc67",
   "metadata": {},
   "outputs": [],
   "source": [
    "from pydantic import BaseModel\n",
    "\n",
    "\n",
    "class Joke(BaseModel):\n",
    "    id: int  #Detta kommer inte att fungera eftersom datatypen i API-et för ID är en sträng och inte en int\n",
    "    joke: str\n",
    "\n",
    "\n"
   ]
  },
  {
   "cell_type": "markdown",
   "id": "2485d854",
   "metadata": {},
   "source": [
    "b) Validate the data from the API using the Joke model.   \n",
    "Test out your Joke instance to see that you can access the joke and id fields."
   ]
  },
  {
   "cell_type": "code",
   "execution_count": 8,
   "id": "ac0bedcf",
   "metadata": {},
   "outputs": [
    {
     "name": "stdout",
     "output_type": "stream",
     "text": [
      "{'id': 'MeaFYLBAQuc',\n",
      " 'joke': 'Have you heard the rumor going around about butter? Never mind, I '\n",
      "         \"shouldn't spread it.\"}\n"
     ]
    }
   ],
   "source": [
    "from pprint import pprint   # för snyggare utskrift\n",
    "\n",
    "class Joke(BaseModel):\n",
    "    id: str                 #Ändrar klassen, så id är en str istället, då jag annars inte kommer att kunna läsa in data\n",
    "    joke: str\n",
    "\n",
    "data = response.json()\n",
    "\n",
    "joke = Joke.model_validate(data)\n",
    "pprint(joke.model_dump())\n",
    "\n"
   ]
  },
  {
   "cell_type": "markdown",
   "id": "2b4a96f5",
   "metadata": {},
   "source": [
    "c) Now create a new Joke Pydantic model that also have the field words_in_joke.   \n",
    "This is a computed field and a property so you will need to decorate your method like this   \n",
    "Note that computed_field is imported from pydantic. Validate a random joke with your new Joke model."
   ]
  },
  {
   "cell_type": "code",
   "execution_count": 9,
   "id": "9866fd7e",
   "metadata": {},
   "outputs": [
    {
     "name": "stdout",
     "output_type": "stream",
     "text": [
      "Joke(id='MeaFYLBAQuc', joke=\"Have you heard the rumor going around about butter? Never mind, I shouldn't spread it.\", words_in_joke=15)\n",
      "Antal ord i skämtet: 15\n"
     ]
    }
   ],
   "source": [
    "from pydantic import computed_field\n",
    "\n",
    "\n",
    "class Joke(BaseModel):\n",
    "    id: str                 \n",
    "    joke: str\n",
    "\n",
    "    @computed_field\n",
    "    @property\n",
    "    def words_in_joke(self) -> int:\n",
    "        return len(self.joke.split())\n",
    "    \n",
    "joke = Joke.model_validate(data)\n",
    "pprint(joke)\n",
    "print(\"Antal ord i skämtet:\", joke.words_in_joke)"
   ]
  },
  {
   "cell_type": "markdown",
   "id": "4077f1b2",
   "metadata": {},
   "source": [
    "d) Request 10 jokes from the api and validate them into many Jokes instances that you store into a list.   \n",
    "Make sure to use sleep for 5 seconds to not request from the API too much."
   ]
  },
  {
   "cell_type": "code",
   "execution_count": 10,
   "id": "15e238d3",
   "metadata": {},
   "outputs": [
    {
     "name": "stdout",
     "output_type": "stream",
     "text": [
      "{'id': 'IeiyIRSnbxc', 'joke': \"I applied to be a doorman but didn't get the job due to lack of experience. That surprised me, I thought it was an entry level position.\", 'status': 200}\n"
     ]
    }
   ],
   "source": [
    "headers = {\"Accept\": \"application/json\"}   \n",
    "response = requests.get(\"https://icanhazdadjoke.com/\", headers=headers)   \n",
    "\n",
    "print(response.json())  "
   ]
  }
 ],
 "metadata": {
  "kernelspec": {
   "display_name": "venv",
   "language": "python",
   "name": "python3"
  },
  "language_info": {
   "codemirror_mode": {
    "name": "ipython",
    "version": 3
   },
   "file_extension": ".py",
   "mimetype": "text/x-python",
   "name": "python",
   "nbconvert_exporter": "python",
   "pygments_lexer": "ipython3",
   "version": "3.13.3"
  }
 },
 "nbformat": 4,
 "nbformat_minor": 5
}
