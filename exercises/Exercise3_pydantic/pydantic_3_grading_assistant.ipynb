{
 "cells": [
  {
   "cell_type": "markdown",
   "id": "44010eb5",
   "metadata": {},
   "source": [
    "### 3. A grading assistant\n",
    "Teachers in general have a lot of administrations to do and one of those things is grading. Can we create a simple grade assistant to assist a Swedish teacher in grading? This exercise focuses a lot in prompt engineering and afterwards to postprocess the output using Pydantic.\n",
    "\n",
    "a) Go into this page with examples of students answers to a particular question. Copy some example texts and paste it into files with names like student_text_1.txt, student_text_2.txt.\n",
    "\n",
    "b) Read these data into python and tell your LLM to grade them.\n",
    "\n",
    "c) Prompt to get an output of fields proposed_grade, motivation and improvements.\n",
    "\n",
    "d) Now validate this with pydantic model\n",
    "\n",
    "e) Output a folder with the following txt files: proposed_grade.txt, motivation.txt and improvements.txt\n",
    "\n",
    "f) Go into skolverket for Svenska 1 and copy \"Betygskriterier\" for \"Svenska 1\". These are the criterias for the different grades. Paste this into a file called criterias.txt.\n",
    "\n",
    "g) Now repeat b)-e) but with the criterias in your prompt as well. Can you see any differences in the outputs?\n",
    "\n",
    "h) Can you improve the output quality by providing few shot examples?"
   ]
  },
  {
   "cell_type": "code",
   "execution_count": null,
   "id": "ecf1db8c",
   "metadata": {},
   "outputs": [],
   "source": [
    "from pathlib import Path\n",
    "\n",
    "#Arbetskatalogen där skriptet skript körs\n",
    "current_dir = Path.cwd()\n",
    "\n",
    "#Pekar på mappen där texterna ligger\n",
    "DATA_PATH = current_dir / \"exercise_data\""
   ]
  },
  {
   "cell_type": "code",
   "execution_count": null,
   "id": "f5ea3484",
   "metadata": {},
   "outputs": [
    {
     "name": "stdout",
     "output_type": "stream",
     "text": [
      "CWD: c:\\Users\\susan\\KodPython\\ai_engineering_susanne_wenblad\\exercises\\Exercise3_pydantic\n",
      "DATA_PATH: C:\\Users\\susan\\KodPython\\ai_engineering_susanne_wenblad\\exercises\\Exercise3_pydantic\\exercise_data exists: True\n",
      "Filer i DATA_PATH: ['student1.txt', 'student2.txt']\n"
     ]
    }
   ],
   "source": [
    "#Debug-utskrift pga problem att hitta filen...\n",
    "\n",
    "from pathlib import Path\n",
    "\n",
    "print(\"CWD:\", Path.cwd())\n",
    "DATA_PATH = (Path.cwd() / \"exercise_data\").resolve()\n",
    "print(\"DATA_PATH:\", DATA_PATH, \"exists:\", DATA_PATH.exists())\n",
    "print(\"Filer i DATA_PATH:\", [p.name for p in DATA_PATH.glob(\"*.txt\")])\n"
   ]
  },
  {
   "cell_type": "code",
   "execution_count": null,
   "id": "c93be053",
   "metadata": {},
   "outputs": [],
   "source": [
    "#Funktion för att läsa in filerna \n",
    "\n",
    "def read_txt(filename: str) -> str:\n",
    "    filepath = DATA_PATH / filename\n",
    "    with filepath.open(\"r\", encoding=\"utf-8\") as f:\n",
    "        return f.read()\n"
   ]
  },
  {
   "cell_type": "code",
   "execution_count": null,
   "id": "892559f6",
   "metadata": {},
   "outputs": [],
   "source": [
    "#Variabler för att lagra de två studenttexterna\n",
    "\n",
    "text1 = read_txt(\"student1.txt\")\n",
    "text2 = read_txt(\"student2.txt\")"
   ]
  },
  {
   "cell_type": "code",
   "execution_count": null,
   "id": "7bf07007",
   "metadata": {},
   "outputs": [
    {
     "name": "stdout",
     "output_type": "stream",
     "text": [
      "Hittade 2 texter.\n",
      " Inför allas blickar\n",
      " En av de större andledningarna att man är tal rädd är förmodligen att man är \n",
      "rädd för att folket som lyssnar på kommer göra narr av en. När man är ensam \n",
      "på en scen eller i klas\n"
     ]
    }
   ],
   "source": [
    "# Slår ihop hämtning av filer och lägger texterna i en lista\n",
    "\n",
    "DATA_PATH = (Path.cwd() / \"exercise_data\").resolve()\n",
    "\n",
    "def read_all_txts(path: Path):\n",
    "    texts = []\n",
    "    for file in sorted(path.glob(\"*.txt\")): \n",
    "        with file.open(\"r\", encoding=\"utf-8\") as f:\n",
    "            texts.append(f.read())\n",
    "    return texts\n",
    "\n",
    "all_texts = read_all_txts(DATA_PATH)\n",
    "\n",
    "print(f\"Hittade {len(all_texts)} texter.\")\n",
    "print(all_texts[0][:200])  \n"
   ]
  },
  {
   "cell_type": "code",
   "execution_count": null,
   "id": "05491334",
   "metadata": {},
   "outputs": [
    {
     "name": "stdout",
     "output_type": "stream",
     "text": [
      "dict_keys(['student1', 'student2'])\n",
      " Inför allas blickar\n",
      " En av de större andledningarna att man är tal rädd är förmodligen att man är \n",
      "rädd för att folket som lyssnar på kommer göra narr av en. När man är ensam \n",
      "på en scen eller i klas\n"
     ]
    }
   ],
   "source": [
    "#Funktion för att läsa in texterna med namn och spara i en dict\n",
    "def read_all_texts_with_names(path: Path):\n",
    "    texts = {}\n",
    "    for file in sorted(path.glob(\"*.txt\")):\n",
    "        with file.open(\"r\", encoding=\"utf-8\") as f:\n",
    "            texts[file.stem] = f.read()\n",
    "    return texts\n",
    "\n",
    "\n",
    "texts_dict = read_all_texts_with_names(DATA_PATH)\n",
    "\n",
    "print(texts_dict.keys())  \n",
    "print(texts_dict[\"student1\"][:200])"
   ]
  },
  {
   "cell_type": "markdown",
   "id": "124567bf",
   "metadata": {},
   "source": [
    "b) Read these data into python and tell your LLM to grade them."
   ]
  },
  {
   "cell_type": "code",
   "execution_count": null,
   "id": "85c875a4",
   "metadata": {},
   "outputs": [],
   "source": [
    "#Koppla Gemini till python\n",
    "\n",
    "from google import genai\n",
    "\n",
    "client = genai.Client()"
   ]
  },
  {
   "cell_type": "code",
   "execution_count": null,
   "id": "7e002b39",
   "metadata": {},
   "outputs": [
    {
     "data": {
      "text/plain": [
       "'Här är tre svenska flicknamn:\\n\\n1.  **Linnea**\\n2.  **Maja**\\n3.  **Astrid**'"
      ]
     },
     "execution_count": 14,
     "metadata": {},
     "output_type": "execute_result"
    }
   ],
   "source": [
    "#Funktion för promptning samt test för att säkerställa att funktionen fungerar som den ska\n",
    "\n",
    "def ask_LLM(prompt): \n",
    "    response = client.models.generate_content(\n",
    "        model = \"gemini-2.5-flash\", \n",
    "        contents = prompt\n",
    "    )\n",
    "    return response.text\n",
    "\n",
    "ask_LLM(\"Skriv tre svenska flicknamn\")"
   ]
  },
  {
   "cell_type": "markdown",
   "id": "d46e287a",
   "metadata": {},
   "source": [
    "c) Prompt to get an output of fields proposed_grade, motivation and improvements.\n",
    "\n"
   ]
  },
  {
   "cell_type": "code",
   "execution_count": null,
   "id": "d168be2a",
   "metadata": {},
   "outputs": [
    {
     "name": "stdout",
     "output_type": "stream",
     "text": [
      "proposed_grade: D\n",
      "\n",
      "motivation: Studenten visar en grundläggande förståelse för ämnet och gör ett försök att integrera en extern källa med egna tankar. En viss struktur finns i texten. Däremot är språket tyvärr bristfälligt med många stavfel, grammatiska fel samt inkonsekvenser i meningsbyggnad och interpunktion. Dessa brister försvårar läsningen och drar ner textens akademiska kvalitet betydligt.\n",
      "\n",
      "improvements: Fokusera på att förbättra grundläggande språkkunskaper. Arbeta med stavning (särskilt sammansatta ord som \"klassrummet\", \"jobbskäl\", \"självförtroende\"), grammatik (t.ex. formlära som \"van\" istället för \"vann\", \"utstött\" istället för \"utstöt\", och konsekvens i personval). Öva på interpunktion och läs noga korrektur för att upptäcka och rätta fel innan inlämning.\n"
     ]
    }
   ],
   "source": [
    "#Läs in studenttexterna med dict-funktionen \n",
    "\n",
    "texts_dict = read_all_texts_with_names(DATA_PATH)\n",
    "student1_text = texts_dict[\"student1\"]\n",
    "\n",
    "\n",
    "#Skapa prompten\n",
    "prompt_for_grading = f\"\"\"\n",
    "Du är en svensk lärare och ska betygsätta en uppgift.\n",
    "Här är studentens svar:\n",
    "---\n",
    "{student1_text}\n",
    "---\n",
    "\n",
    "Bedöm studentens svar och ge en sammanfattning med följande fält:\n",
    "proposed_grade: [Ditt föreslagna betyg, t.ex. A, B, C, D, E, F]\n",
    "motivation: [En kort motivering för betyget]\n",
    "improvements: [Förslag på hur studenten kan förbättra sitt svar]\n",
    "\n",
    "Svaret ska vara kortfattat. Max 10 rader\n",
    "\"\"\"\n",
    "\n",
    "#Anropar funktionen och sparar resultatet\n",
    "llm_response = ask_LLM(prompt_for_grading)\n",
    "\n",
    "#Skriver ut resultatet från LLM:en\n",
    "print(llm_response)\n"
   ]
  },
  {
   "cell_type": "markdown",
   "id": "b2c54aba",
   "metadata": {},
   "source": [
    "d) Now validate this with pydantic model\n",
    "\n"
   ]
  },
  {
   "cell_type": "code",
   "execution_count": 17,
   "id": "fc4d47ee",
   "metadata": {},
   "outputs": [],
   "source": [
    "from pydantic import BaseModel\n",
    "\n",
    "#Modell för att validera utdata från LLM\n",
    "\n",
    "class GradeOutput(BaseModel):\n",
    "    proposed_grade: str\n",
    "    motivation: str\n",
    "    improvements: str\n",
    "\n",
    "\n"
   ]
  },
  {
   "cell_type": "code",
   "execution_count": null,
   "id": "beaba7eb",
   "metadata": {},
   "outputs": [],
   "source": [
    "#Funktion för att parsa datan till en dict\n",
    "def parse_llm_response(text: str) -> dict:\n",
    "    \"\"\"Parsar en textsträng från LLM till en dictionary.\"\"\"\n",
    "    parsed_data = {}\n",
    "    lines = text.strip().split('\\n')\n",
    "    for line in lines:\n",
    "        if ':' in line:\n",
    "            key, value = line.split(':', 1)\n",
    "            parsed_data[key.strip()] = value.strip()\n",
    "    return parsed_data"
   ]
  },
  {
   "cell_type": "code",
   "execution_count": 21,
   "id": "37b488eb",
   "metadata": {},
   "outputs": [
    {
     "name": "stdout",
     "output_type": "stream",
     "text": [
      "Utdata validerad med Pydantic!\n",
      "{\n",
      "  \"proposed_grade\": \"D\",\n",
      "  \"motivation\": \"Studenten visar en grundläggande förståelse för ämnet och gör ett försök att integrera en extern källa med egna tankar. En viss struktur finns i texten. Däremot är språket tyvärr bristfälligt med många stavfel, grammatiska fel samt inkonsekvenser i meningsbyggnad och interpunktion. Dessa brister försvårar läsningen och drar ner textens akademiska kvalitet betydligt.\",\n",
      "  \"improvements\": \"Fokusera på att förbättra grundläggande språkkunskaper. Arbeta med stavning (särskilt sammansatta ord som \\\"klassrummet\\\", \\\"jobbskäl\\\", \\\"självförtroende\\\"), grammatik (t.ex. formlära som \\\"van\\\" istället för \\\"vann\\\", \\\"utstött\\\" istället för \\\"utstöt\\\", och konsekvens i personval). Öva på interpunktion och läs noga korrektur för att upptäcka och rätta fel innan inlämning.\"\n",
      "}\n"
     ]
    }
   ],
   "source": [
    "\n",
    "# 1. Parsa strängen  till en dictionary\n",
    "parsed_data = parse_llm_response(llm_response)\n",
    "\n",
    "# 2. Validera med Pydantic-modellen\n",
    "try:\n",
    "    validated_output = GradeOutput(**parsed_data)\n",
    "    print(\"Utdata validerad med Pydantic!\")\n",
    "    print(validated_output.model_dump_json(indent=2))\n",
    "\n",
    "except Exception as e:\n",
    "    print(f\"Validering misslyckades: {e}\")"
   ]
  },
  {
   "cell_type": "markdown",
   "id": "1df798b6",
   "metadata": {},
   "source": [
    "e) Output a folder with the following txt files: proposed_grade.txt, motivation.txt and improvements.txt\n",
    "\n"
   ]
  },
  {
   "cell_type": "code",
   "execution_count": null,
   "id": "466d5ae6",
   "metadata": {},
   "outputs": [],
   "source": [
    "from pathlib import Path\n",
    "\n",
    "output_folder = DATA_PATH.parent / \"output_data\"\n",
    "output_folder.mkdir(exist_ok=True)"
   ]
  },
  {
   "cell_type": "code",
   "execution_count": 25,
   "id": "7d9ba2d2",
   "metadata": {},
   "outputs": [
    {
     "name": "stdout",
     "output_type": "stream",
     "text": [
      "Bedömningen har sparats i mappen 'output_data'.\n"
     ]
    }
   ],
   "source": [
    "# Sparar betyget\n",
    "with open(output_folder / 'proposed_grade.txt', 'w', encoding='utf-8') as f:\n",
    "    f.write(validated_output.proposed_grade)\n",
    "\n",
    "# Sparar motiveringen\n",
    "with open(output_folder / 'motivation.txt', 'w', encoding='utf-8') as f:\n",
    "    f.write(validated_output.motivation)\n",
    "\n",
    "# Sparar förbättringsförslagen\n",
    "with open(output_folder / 'improvements.txt', 'w', encoding='utf-8') as f:\n",
    "    f.write(validated_output.improvements)\n",
    "\n",
    "print(\"Bedömningen har sparats i mappen 'output_data'.\")"
   ]
  },
  {
   "cell_type": "markdown",
   "id": "bff06b4e",
   "metadata": {},
   "source": [
    "f) Go into skolverket for Svenska 1 and copy \"Betygskriterier\" for \"Svenska 1\". These are the criterias for the different grades. Paste this into a file called criterias.txt.\n",
    "\n"
   ]
  },
  {
   "cell_type": "code",
   "execution_count": null,
   "id": "bf58c381",
   "metadata": {},
   "outputs": [],
   "source": []
  },
  {
   "cell_type": "markdown",
   "id": "198d25c5",
   "metadata": {},
   "source": [
    "g) Now repeat b)-e) but with the criterias in your prompt as well. Can you see any differences in the outputs?\n",
    "\n"
   ]
  },
  {
   "cell_type": "code",
   "execution_count": null,
   "id": "9b343dae",
   "metadata": {},
   "outputs": [],
   "source": []
  },
  {
   "cell_type": "markdown",
   "id": "289bdf33",
   "metadata": {},
   "source": [
    "h) Can you improve the output quality by providing few shot examples?"
   ]
  },
  {
   "cell_type": "code",
   "execution_count": null,
   "id": "5df9622e",
   "metadata": {},
   "outputs": [],
   "source": []
  }
 ],
 "metadata": {
  "kernelspec": {
   "display_name": "venv",
   "language": "python",
   "name": "python3"
  },
  "language_info": {
   "codemirror_mode": {
    "name": "ipython",
    "version": 3
   },
   "file_extension": ".py",
   "mimetype": "text/x-python",
   "name": "python",
   "nbconvert_exporter": "python",
   "pygments_lexer": "ipython3",
   "version": "3.13.3"
  }
 },
 "nbformat": 4,
 "nbformat_minor": 5
}
