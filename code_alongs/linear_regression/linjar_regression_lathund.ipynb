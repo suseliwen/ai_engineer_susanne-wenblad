{
 "cells": [
  {
   "cell_type": "markdown",
   "id": "95d33426",
   "metadata": {},
   "source": [
    "# Linjär regression i scikit-learn – Lathund"
   ]
  },
  {
   "cell_type": "markdown",
   "id": "11602bf1",
   "metadata": {},
   "source": [
    "\n",
    "**Arbetsflöde**  \n",
    "1. Ladda och undersök data  \n",
    "2. Train/Test-split  \n",
    "3. (Valfritt) Skalning  \n",
    "4. Träna modell  \n",
    "5. Utvärdera och tolka\n"
   ]
  },
  {
   "cell_type": "code",
   "execution_count": 1,
   "id": "c59d94c7",
   "metadata": {},
   "outputs": [
    {
     "data": {
      "text/html": [
       "<div>\n",
       "<style scoped>\n",
       "    .dataframe tbody tr th:only-of-type {\n",
       "        vertical-align: middle;\n",
       "    }\n",
       "\n",
       "    .dataframe tbody tr th {\n",
       "        vertical-align: top;\n",
       "    }\n",
       "\n",
       "    .dataframe thead th {\n",
       "        text-align: right;\n",
       "    }\n",
       "</style>\n",
       "<table border=\"1\" class=\"dataframe\">\n",
       "  <thead>\n",
       "    <tr style=\"text-align: right;\">\n",
       "      <th></th>\n",
       "      <th>TV</th>\n",
       "      <th>radio</th>\n",
       "      <th>newspaper</th>\n",
       "      <th>sales</th>\n",
       "    </tr>\n",
       "  </thead>\n",
       "  <tbody>\n",
       "    <tr>\n",
       "      <th>1</th>\n",
       "      <td>230.1</td>\n",
       "      <td>37.8</td>\n",
       "      <td>69.2</td>\n",
       "      <td>22.1</td>\n",
       "    </tr>\n",
       "    <tr>\n",
       "      <th>2</th>\n",
       "      <td>44.5</td>\n",
       "      <td>39.3</td>\n",
       "      <td>45.1</td>\n",
       "      <td>10.4</td>\n",
       "    </tr>\n",
       "    <tr>\n",
       "      <th>3</th>\n",
       "      <td>17.2</td>\n",
       "      <td>45.9</td>\n",
       "      <td>69.3</td>\n",
       "      <td>9.3</td>\n",
       "    </tr>\n",
       "    <tr>\n",
       "      <th>4</th>\n",
       "      <td>151.5</td>\n",
       "      <td>41.3</td>\n",
       "      <td>58.5</td>\n",
       "      <td>18.5</td>\n",
       "    </tr>\n",
       "    <tr>\n",
       "      <th>5</th>\n",
       "      <td>180.8</td>\n",
       "      <td>10.8</td>\n",
       "      <td>58.4</td>\n",
       "      <td>12.9</td>\n",
       "    </tr>\n",
       "  </tbody>\n",
       "</table>\n",
       "</div>"
      ],
      "text/plain": [
       "      TV  radio  newspaper  sales\n",
       "1  230.1   37.8       69.2   22.1\n",
       "2   44.5   39.3       45.1   10.4\n",
       "3   17.2   45.9       69.3    9.3\n",
       "4  151.5   41.3       58.5   18.5\n",
       "5  180.8   10.8       58.4   12.9"
      ]
     },
     "execution_count": 1,
     "metadata": {},
     "output_type": "execute_result"
    }
   ],
   "source": [
    "import pandas as pd\n",
    "import numpy as np\n",
    "\n",
    "# Ladda data (byt sökväg vid behov)\n",
    "df = pd.read_csv(\"../../data/Advertising.csv\", index_col= 0)\n",
    "df.head()"
   ]
  },
  {
   "cell_type": "code",
   "execution_count": 2,
   "id": "1e100345",
   "metadata": {},
   "outputs": [
    {
     "data": {
      "text/plain": [
       "((200, 4),\n",
       "                TV       radio   newspaper       sales\n",
       " count  200.000000  200.000000  200.000000  200.000000\n",
       " mean   147.042500   23.264000   30.554000   14.022500\n",
       " std     85.854236   14.846809   21.778621    5.217457\n",
       " min      0.700000    0.000000    0.300000    1.600000\n",
       " 25%     74.375000    9.975000   12.750000   10.375000\n",
       " 50%    149.750000   22.900000   25.750000   12.900000\n",
       " 75%    218.825000   36.525000   45.100000   17.400000\n",
       " max    296.400000   49.600000  114.000000   27.000000)"
      ]
     },
     "execution_count": 2,
     "metadata": {},
     "output_type": "execute_result"
    }
   ],
   "source": [
    "df.shape, df.describe()"
   ]
  },
  {
   "cell_type": "code",
   "execution_count": 3,
   "id": "b04e0d68",
   "metadata": {},
   "outputs": [
    {
     "data": {
      "text/html": [
       "<div>\n",
       "<style scoped>\n",
       "    .dataframe tbody tr th:only-of-type {\n",
       "        vertical-align: middle;\n",
       "    }\n",
       "\n",
       "    .dataframe tbody tr th {\n",
       "        vertical-align: top;\n",
       "    }\n",
       "\n",
       "    .dataframe thead th {\n",
       "        text-align: right;\n",
       "    }\n",
       "</style>\n",
       "<table border=\"1\" class=\"dataframe\">\n",
       "  <thead>\n",
       "    <tr style=\"text-align: right;\">\n",
       "      <th></th>\n",
       "      <th>TV</th>\n",
       "      <th>radio</th>\n",
       "      <th>newspaper</th>\n",
       "    </tr>\n",
       "  </thead>\n",
       "  <tbody>\n",
       "    <tr>\n",
       "      <th>1</th>\n",
       "      <td>230.1</td>\n",
       "      <td>37.8</td>\n",
       "      <td>69.2</td>\n",
       "    </tr>\n",
       "    <tr>\n",
       "      <th>2</th>\n",
       "      <td>44.5</td>\n",
       "      <td>39.3</td>\n",
       "      <td>45.1</td>\n",
       "    </tr>\n",
       "    <tr>\n",
       "      <th>3</th>\n",
       "      <td>17.2</td>\n",
       "      <td>45.9</td>\n",
       "      <td>69.3</td>\n",
       "    </tr>\n",
       "    <tr>\n",
       "      <th>4</th>\n",
       "      <td>151.5</td>\n",
       "      <td>41.3</td>\n",
       "      <td>58.5</td>\n",
       "    </tr>\n",
       "    <tr>\n",
       "      <th>5</th>\n",
       "      <td>180.8</td>\n",
       "      <td>10.8</td>\n",
       "      <td>58.4</td>\n",
       "    </tr>\n",
       "  </tbody>\n",
       "</table>\n",
       "</div>"
      ],
      "text/plain": [
       "      TV  radio  newspaper\n",
       "1  230.1   37.8       69.2\n",
       "2   44.5   39.3       45.1\n",
       "3   17.2   45.9       69.3\n",
       "4  151.5   41.3       58.5\n",
       "5  180.8   10.8       58.4"
      ]
     },
     "execution_count": 3,
     "metadata": {},
     "output_type": "execute_result"
    }
   ],
   "source": [
    "# Features/target\n",
    "X = df.drop(\"sales\", axis=1)\n",
    "y = df[\"sales\"]\n",
    "X.head()"
   ]
  },
  {
   "cell_type": "code",
   "execution_count": 4,
   "id": "bc4deeb6",
   "metadata": {},
   "outputs": [
    {
     "data": {
      "text/plain": [
       "((134, 3), (66, 3), (134,), (66,))"
      ]
     },
     "execution_count": 4,
     "metadata": {},
     "output_type": "execute_result"
    }
   ],
   "source": [
    "from sklearn.model_selection import train_test_split\n",
    "\n",
    "X_train, X_test, y_train, y_test = train_test_split(\n",
    "    X, y, test_size=0.33, random_state=42\n",
    ")\n",
    "\n",
    "X_train.shape, X_test.shape, y_train.shape, y_test.shape"
   ]
  },
  {
   "cell_type": "markdown",
   "id": "33917c28",
   "metadata": {},
   "source": [
    "### (Valfritt) Skalning"
   ]
  },
  {
   "cell_type": "code",
   "execution_count": 8,
   "id": "13a42090",
   "metadata": {},
   "outputs": [
    {
     "data": {
      "text/plain": [
       "array([[0.99053094, 0.55846774, 0.01491054],\n",
       "       [0.06087251, 0.24395161, 0.22962227],\n",
       "       [0.45180927, 0.09879032, 0.08946322]])"
      ]
     },
     "execution_count": 8,
     "metadata": {},
     "output_type": "execute_result"
    }
   ],
   "source": [
    "from sklearn.preprocessing import MinMaxScaler\n",
    "\n",
    "scaler = MinMaxScaler().fit(X_train)\n",
    "scaled_X_train = scaler.transform(X_train)\n",
    "scaled_X_test = scaler.transform(X_test)\n",
    "\n",
    "scaled_X_train[:3]"
   ]
  },
  {
   "cell_type": "markdown",
   "id": "d815b1b0",
   "metadata": {},
   "source": [
    "### Träna linjär regression"
   ]
  },
  {
   "cell_type": "code",
   "execution_count": 9,
   "id": "acf69493",
   "metadata": {},
   "outputs": [
    {
     "name": "stdout",
     "output_type": "stream",
     "text": [
      "Intercept: 2.7911595196243653\n",
      "TV: 13.2075\n",
      "radio: 9.7529\n",
      "newspaper: 0.6111\n"
     ]
    }
   ],
   "source": [
    "from sklearn.linear_model import LinearRegression\n",
    "\n",
    "model = LinearRegression().fit(scaled_X_train, y_train)\n",
    "\n",
    "print(\"Intercept:\", model.intercept_)\n",
    "for feature, coef in zip(X.columns, model.coef_):\n",
    "    print(f\"{feature}: {coef:.4f}\")"
   ]
  },
  {
   "cell_type": "markdown",
   "id": "64ff63db",
   "metadata": {},
   "source": [
    "### Prediktion"
   ]
  },
  {
   "cell_type": "code",
   "execution_count": 10,
   "id": "41eb7ed8",
   "metadata": {},
   "outputs": [
    {
     "data": {
      "text/plain": [
       "array([16.58673085, 21.18622524, 21.66752973, 10.81086512, 22.25210881])"
      ]
     },
     "execution_count": 10,
     "metadata": {},
     "output_type": "execute_result"
    }
   ],
   "source": [
    "# På testdatan\n",
    "y_pred = model.predict(scaled_X_test)\n",
    "y_pred[:5]"
   ]
  },
  {
   "cell_type": "code",
   "execution_count": 11,
   "id": "49ce6dc2",
   "metadata": {},
   "outputs": [
    {
     "data": {
      "text/plain": [
       "array([11.33941654])"
      ]
     },
     "execution_count": 11,
     "metadata": {},
     "output_type": "execute_result"
    }
   ],
   "source": [
    "# Ny data (anpassa värden efter dina features)\n",
    "new_data = pd.DataFrame([[100, 20, 30]], columns=X.columns)\n",
    "scaled_new = scaler.transform(new_data)\n",
    "model.predict(scaled_new)"
   ]
  },
  {
   "cell_type": "markdown",
   "id": "b6e4d5d4",
   "metadata": {},
   "source": [
    "### Utvärdering"
   ]
  },
  {
   "cell_type": "code",
   "execution_count": 13,
   "id": "60590673",
   "metadata": {},
   "outputs": [
    {
     "name": "stdout",
     "output_type": "stream",
     "text": [
      "MAE: 1.4938\n",
      "MSE: 3.7279\n",
      "RMSE: 1.9308\n",
      "R²: 0.8556\n"
     ]
    }
   ],
   "source": [
    "from sklearn.metrics import mean_absolute_error, mean_squared_error, r2_score\n",
    "\n",
    "mae = mean_absolute_error(y_test, y_pred)\n",
    "mse = mean_squared_error(y_test, y_pred)\n",
    "rmse = np.sqrt(mse)\n",
    "r2 = r2_score(y_test, y_pred)\n",
    "\n",
    "print(f\"MAE: {mae:.4f}\")\n",
    "print(f\"MSE: {mse:.4f}\")\n",
    "print(f\"RMSE: {rmse:.4f}\")\n",
    "print(f\"R²: {r2:.4f}\")"
   ]
  },
  {
   "cell_type": "markdown",
   "id": "5192d515",
   "metadata": {},
   "source": [
    "### Tips & fallgropar\n",
    "- Outliers kan påverka modellen kraftigt – undersök residualer.\n",
    "- Multikollinearitet – överväg regularisering (Ridge/Lasso).\n",
    "- Kontrollera modellantaganden (linjäritet, homoskedasticitet, normalfördelning av residualer).\n"
   ]
  }
 ],
 "metadata": {
  "kernelspec": {
   "display_name": "venv",
   "language": "python",
   "name": "python3"
  },
  "language_info": {
   "codemirror_mode": {
    "name": "ipython",
    "version": 3
   },
   "file_extension": ".py",
   "mimetype": "text/x-python",
   "name": "python",
   "nbconvert_exporter": "python",
   "pygments_lexer": "ipython3",
   "version": "3.13.3"
  }
 },
 "nbformat": 4,
 "nbformat_minor": 5
}
