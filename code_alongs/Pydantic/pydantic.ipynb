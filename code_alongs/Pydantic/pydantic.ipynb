{
 "cells": [
  {
   "cell_type": "markdown",
   "id": "645e13aa",
   "metadata": {},
   "source": [
    "### Pydantic basics - codealong 250902"
   ]
  },
  {
   "cell_type": "markdown",
   "id": "b302cedd",
   "metadata": {},
   "source": [
    "Pydantic - kan göra om Jjson data till ett objekt\n",
    "- Kan arbeta med data på ett OOP-sätt\n",
    "- fields och methods \n",
    "- kan validera data\n",
    "- output json data (json-data konverteras till python-kod och konverteras sedan tillbaka som json-data)\n",
    "   \n",
    "Pydantic model skapas genom arv från BaseModel\n",
    "\n"
   ]
  },
  {
   "cell_type": "code",
   "execution_count": 7,
   "id": "7e050cbe",
   "metadata": {},
   "outputs": [
    {
     "name": "stdout",
     "output_type": "stream",
     "text": [
      "Hej, jag heter Anna och är 25 år gammal och är en kvinna.\n",
      "Hej, jag heter Erik och är 30 år gammal och är en man.\n"
     ]
    }
   ],
   "source": [
    "# Skapa en person\n",
    "\n",
    "#Klassen definierar en person - vilka delar innehåller personen? Blueprint\n",
    "class Person:\n",
    "    def __init__(self, name, age, gender):        #dunder__init__ = konstruktorn\n",
    "        self.gender = gender\n",
    "        self.name = name                    # instansvariabel\n",
    "        self.age = age                     # instansvariabel\n",
    "\n",
    "    def presentera(self):\n",
    "        print(f\"Hej, jag heter {self.name} och är {self.age} år gammal och är en {self.gender}.\")\n",
    "\n",
    "p1 = Person(\"Anna\", 25, \"kvinna\")   #en instans av ett objekt\n",
    "p2 = Person(\"Erik\", 30, \"man\")      #en instans av ett objekt\n",
    "p3 = Person(13+8, \"hej\", 2)\n",
    "\n",
    "p1.presentera()\n",
    "p2.presentera()\n",
    "\n"
   ]
  },
  {
   "cell_type": "code",
   "execution_count": 5,
   "id": "871a9b82",
   "metadata": {},
   "outputs": [
    {
     "data": {
      "text/plain": [
       "('Anna', 25, 'kvinna')"
      ]
     },
     "execution_count": 5,
     "metadata": {},
     "output_type": "execute_result"
    }
   ],
   "source": [
    "#attribute in person1 (p1) insance\n",
    "p1.name, p1.age,  p1.gender"
   ]
  },
  {
   "cell_type": "code",
   "execution_count": null,
   "id": "08b0fdbf",
   "metadata": {},
   "outputs": [
    {
     "name": "stdout",
     "output_type": "stream",
     "text": [
      "Hej, jag heter 21 och är hej år gammal och är en 2.\n"
     ]
    }
   ],
   "source": [
    "#I python valideras inte datan. Du kan därför putta in vilka värden som helst i en instans. \n",
    "#Detta kan innebär fel i datan/koden, när koden ex. förväntar sig en int men får en str\n",
    "p3.presentera()"
   ]
  },
  {
   "cell_type": "markdown",
   "id": "1f4e4cc4",
   "metadata": {},
   "source": [
    "##### Typehinting\n",
    "Vi föreslår vilken datatyp en parameter ska ha.   \n",
    "Observera att det inte blir fel om man skriver in nåt annat. "
   ]
  },
  {
   "cell_type": "code",
   "execution_count": 7,
   "id": "a6ad6490",
   "metadata": {},
   "outputs": [],
   "source": [
    "\n",
    "class Person:\n",
    "    def __init__(self, name:str, age:int, gender:str):        #dunder__init__ = konstruktorn\n",
    "        self.gender = gender\n",
    "        self.name = name                    # instansvariabel\n",
    "        self.age = age                     # instansvariabel"
   ]
  },
  {
   "cell_type": "code",
   "execution_count": 9,
   "id": "b4347913",
   "metadata": {},
   "outputs": [
    {
     "data": {
      "text/plain": [
       "11"
      ]
     },
     "execution_count": 9,
     "metadata": {},
     "output_type": "execute_result"
    }
   ],
   "source": [
    "p5 = Person(11, \"test\", 2)\n",
    "\n",
    "p5.name"
   ]
  },
  {
   "cell_type": "markdown",
   "id": "359fea2b",
   "metadata": {},
   "source": [
    "##### Validera Person-klassen   \n",
    "- Lägg till ett exception, så koden kastar ett felmeddelande om användaren försöker använda en felaktig datatyp"
   ]
  },
  {
   "cell_type": "markdown",
   "id": "7e1a18d0",
   "metadata": {},
   "source": [
    "TESTA - kan man göra en funktion för att göra en datavalidering i en class?"
   ]
  },
  {
   "cell_type": "code",
   "execution_count": null,
   "id": "5fa9a190",
   "metadata": {},
   "outputs": [
    {
     "name": "stdout",
     "output_type": "stream",
     "text": [
      "name måste vara en sträng, inte <class 'int'>\n"
     ]
    }
   ],
   "source": [
    "class Person:\n",
    "    def __init__(self, name:str, age:int, gender:str):        #dunder__init__ = konstruktorn\n",
    "        \n",
    "        if not isinstance(name, str):\n",
    "            raise TypeError(f\"name måste vara en sträng, inte {type(name)}\")\n",
    "            self.name = name\n",
    "        \n",
    "        self.gender = gender\n",
    "        self.age = age                     # instansvariabel\n",
    "    \n",
    "\n",
    "try:\n",
    "    Person(name = 532, gender = 3, age = \"hare\") \n",
    "except TypeError as err:\n",
    "    print(err)   \n",
    "\n",
    "\n"
   ]
  },
  {
   "cell_type": "code",
   "execution_count": null,
   "id": "7f84f09c",
   "metadata": {},
   "outputs": [],
   "source": [
    "p6 = Person(11, 12, 13)\n",
    "\n",
    "p6.name"
   ]
  },
  {
   "cell_type": "code",
   "execution_count": null,
   "id": "9c79186d",
   "metadata": {},
   "outputs": [],
   "source": [
    "class Person:\n",
    "    def __init__(self, name:str, age:int, gender:str):       \n",
    "        \n",
    "        if not isinstance(name, str):\n",
    "            raise TypeError(f\"name måste vara en sträng, inte {type(name)}\")\n",
    "            self.name = name\n",
    "        \n",
    "        self.gender = gender\n",
    "        self.age = age                     \n",
    "    #getter\n",
    "    @property\n",
    "    def age(self):\n",
    "        return self.age\n",
    "    \n",
    "    @age.setter\n",
    "    def age(self, value: int):\n",
    "        if not isinstance(value, int):   \n",
    "            raise TypeError(\"felmeddelande\")\n",
    "        if value < 0 or value > 110:\n",
    "            raise ValueError(\"värdefel - ålder måste vara högre än 0 och mindre än 110\")\n",
    "\n",
    "        self._age = value\n",
    "\n",
    "\n"
   ]
  },
  {
   "cell_type": "code",
   "execution_count": 24,
   "id": "e6fd3feb",
   "metadata": {},
   "outputs": [
    {
     "ename": "ValueError",
     "evalue": "värdefel - ålder måste vara högre än 0 och mindre än 110",
     "output_type": "error",
     "traceback": [
      "\u001b[31m---------------------------------------------------------------------------\u001b[39m",
      "\u001b[31mValueError\u001b[39m                                Traceback (most recent call last)",
      "\u001b[36mCell\u001b[39m\u001b[36m \u001b[39m\u001b[32mIn[24]\u001b[39m\u001b[32m, line 1\u001b[39m\n\u001b[32m----> \u001b[39m\u001b[32m1\u001b[39m p6 = \u001b[43mPerson\u001b[49m\u001b[43m(\u001b[49m\u001b[43mname\u001b[49m\u001b[43m \u001b[49m\u001b[43m=\u001b[49m\u001b[43m \u001b[49m\u001b[33;43m\"\u001b[39;49m\u001b[33;43m11\u001b[39;49m\u001b[33;43m\"\u001b[39;49m\u001b[43m,\u001b[49m\u001b[43m \u001b[49m\u001b[43mgender\u001b[49m\u001b[43m \u001b[49m\u001b[43m=\u001b[49m\u001b[43m \u001b[49m\u001b[33;43m\"\u001b[39;49m\u001b[33;43mF\u001b[39;49m\u001b[33;43m\"\u001b[39;49m\u001b[43m,\u001b[49m\u001b[43m \u001b[49m\u001b[43mage\u001b[49m\u001b[43m \u001b[49m\u001b[43m=\u001b[49m\u001b[43m \u001b[49m\u001b[43m-\u001b[49m\u001b[32;43m3\u001b[39;49m\u001b[43m)\u001b[49m\n",
      "\u001b[36mCell\u001b[39m\u001b[36m \u001b[39m\u001b[32mIn[21]\u001b[39m\u001b[32m, line 9\u001b[39m, in \u001b[36mPerson.__init__\u001b[39m\u001b[34m(self, name, age, gender)\u001b[39m\n\u001b[32m      6\u001b[39m     \u001b[38;5;28mself\u001b[39m.name = name\n\u001b[32m      8\u001b[39m \u001b[38;5;28mself\u001b[39m.gender = gender\n\u001b[32m----> \u001b[39m\u001b[32m9\u001b[39m \u001b[38;5;28;43mself\u001b[39;49m\u001b[43m.\u001b[49m\u001b[43mage\u001b[49m = age\n",
      "\u001b[36mCell\u001b[39m\u001b[36m \u001b[39m\u001b[32mIn[21]\u001b[39m\u001b[32m, line 20\u001b[39m, in \u001b[36mPerson.age\u001b[39m\u001b[34m(self, value)\u001b[39m\n\u001b[32m     18\u001b[39m     \u001b[38;5;28;01mraise\u001b[39;00m \u001b[38;5;167;01mTypeError\u001b[39;00m(\u001b[33m\"\u001b[39m\u001b[33mfelmeddelande\u001b[39m\u001b[33m\"\u001b[39m)\n\u001b[32m     19\u001b[39m \u001b[38;5;28;01mif\u001b[39;00m value < \u001b[32m0\u001b[39m \u001b[38;5;129;01mor\u001b[39;00m value > \u001b[32m110\u001b[39m:\n\u001b[32m---> \u001b[39m\u001b[32m20\u001b[39m     \u001b[38;5;28;01mraise\u001b[39;00m \u001b[38;5;167;01mValueError\u001b[39;00m(\u001b[33m\"\u001b[39m\u001b[33mvärdefel - ålder måste vara högre än 0 och mindre än 110\u001b[39m\u001b[33m\"\u001b[39m)\n\u001b[32m     22\u001b[39m \u001b[38;5;28mself\u001b[39m._age = value\n",
      "\u001b[31mValueError\u001b[39m: värdefel - ålder måste vara högre än 0 och mindre än 110"
     ]
    }
   ],
   "source": [
    "p6 = Person(name = \"11\", gender = \"F\", age = -3)"
   ]
  },
  {
   "cell_type": "markdown",
   "id": "554a71fd",
   "metadata": {},
   "source": [
    "### Arbeta smartare med Pydantic\n",
    "Genom att använda pydantic får vi med en validering av de datatyper som vil bestämt för varje instans i klassen. "
   ]
  },
  {
   "cell_type": "code",
   "execution_count": 29,
   "id": "c30f3895",
   "metadata": {},
   "outputs": [
    {
     "data": {
      "text/plain": [
       "Person(name='Anna', gender='man', age=35)"
      ]
     },
     "execution_count": 29,
     "metadata": {},
     "output_type": "execute_result"
    }
   ],
   "source": [
    "from pydantic import BaseModel\n",
    "\n",
    "class Person(BaseModel):        #klassen ärver från BaseModel!\n",
    "    name: str\n",
    "    gender: str\n",
    "    age: int\n",
    "\n",
    "\n",
    "p7 = Person(name = \"Anna\", gender = \"man\", age = 35 )\n",
    "p7"
   ]
  },
  {
   "cell_type": "code",
   "execution_count": 30,
   "id": "3c67f28d",
   "metadata": {},
   "outputs": [
    {
     "ename": "ValidationError",
     "evalue": "3 validation errors for Person\nname\n  Input should be a valid string [type=string_type, input_value=11, input_type=int]\n    For further information visit https://errors.pydantic.dev/2.11/v/string_type\ngender\n  Input should be a valid string [type=string_type, input_value=11, input_type=int]\n    For further information visit https://errors.pydantic.dev/2.11/v/string_type\nage\n  Input should be a valid integer, unable to parse string as an integer [type=int_parsing, input_value='Anna', input_type=str]\n    For further information visit https://errors.pydantic.dev/2.11/v/int_parsing",
     "output_type": "error",
     "traceback": [
      "\u001b[31m---------------------------------------------------------------------------\u001b[39m",
      "\u001b[31mValidationError\u001b[39m                           Traceback (most recent call last)",
      "\u001b[36mCell\u001b[39m\u001b[36m \u001b[39m\u001b[32mIn[30]\u001b[39m\u001b[32m, line 1\u001b[39m\n\u001b[32m----> \u001b[39m\u001b[32m1\u001b[39m p8 = \u001b[43mPerson\u001b[49m\u001b[43m(\u001b[49m\u001b[43mname\u001b[49m\u001b[43m \u001b[49m\u001b[43m=\u001b[49m\u001b[43m \u001b[49m\u001b[32;43m11\u001b[39;49m\u001b[43m,\u001b[49m\u001b[43m \u001b[49m\u001b[43mgender\u001b[49m\u001b[43m \u001b[49m\u001b[43m=\u001b[49m\u001b[43m \u001b[49m\u001b[32;43m11\u001b[39;49m\u001b[43m,\u001b[49m\u001b[43m \u001b[49m\u001b[43mage\u001b[49m\u001b[43m \u001b[49m\u001b[43m=\u001b[49m\u001b[43m \u001b[49m\u001b[33;43m\"\u001b[39;49m\u001b[33;43mAnna\u001b[39;49m\u001b[33;43m\"\u001b[39;49m\u001b[43m)\u001b[49m\n\u001b[32m      2\u001b[39m p8\n",
      "\u001b[36mFile \u001b[39m\u001b[32mc:\\Users\\susan\\KodPython\\ai_engineering_susanne_wenblad\\venv\\Lib\\site-packages\\pydantic\\main.py:253\u001b[39m, in \u001b[36mBaseModel.__init__\u001b[39m\u001b[34m(self, **data)\u001b[39m\n\u001b[32m    251\u001b[39m \u001b[38;5;66;03m# `__tracebackhide__` tells pytest and some other tools to omit this function from tracebacks\u001b[39;00m\n\u001b[32m    252\u001b[39m __tracebackhide__ = \u001b[38;5;28;01mTrue\u001b[39;00m\n\u001b[32m--> \u001b[39m\u001b[32m253\u001b[39m validated_self = \u001b[38;5;28;43mself\u001b[39;49m\u001b[43m.\u001b[49m\u001b[43m__pydantic_validator__\u001b[49m\u001b[43m.\u001b[49m\u001b[43mvalidate_python\u001b[49m\u001b[43m(\u001b[49m\u001b[43mdata\u001b[49m\u001b[43m,\u001b[49m\u001b[43m \u001b[49m\u001b[43mself_instance\u001b[49m\u001b[43m=\u001b[49m\u001b[38;5;28;43mself\u001b[39;49m\u001b[43m)\u001b[49m\n\u001b[32m    254\u001b[39m \u001b[38;5;28;01mif\u001b[39;00m \u001b[38;5;28mself\u001b[39m \u001b[38;5;129;01mis\u001b[39;00m \u001b[38;5;129;01mnot\u001b[39;00m validated_self:\n\u001b[32m    255\u001b[39m     warnings.warn(\n\u001b[32m    256\u001b[39m         \u001b[33m'\u001b[39m\u001b[33mA custom validator is returning a value other than `self`.\u001b[39m\u001b[38;5;130;01m\\n\u001b[39;00m\u001b[33m'\u001b[39m\n\u001b[32m    257\u001b[39m         \u001b[33m\"\u001b[39m\u001b[33mReturning anything other than `self` from a top level model validator isn\u001b[39m\u001b[33m'\u001b[39m\u001b[33mt supported when validating via `__init__`.\u001b[39m\u001b[38;5;130;01m\\n\u001b[39;00m\u001b[33m\"\u001b[39m\n\u001b[32m    258\u001b[39m         \u001b[33m'\u001b[39m\u001b[33mSee the `model_validator` docs (https://docs.pydantic.dev/latest/concepts/validators/#model-validators) for more details.\u001b[39m\u001b[33m'\u001b[39m,\n\u001b[32m    259\u001b[39m         stacklevel=\u001b[32m2\u001b[39m,\n\u001b[32m    260\u001b[39m     )\n",
      "\u001b[31mValidationError\u001b[39m: 3 validation errors for Person\nname\n  Input should be a valid string [type=string_type, input_value=11, input_type=int]\n    For further information visit https://errors.pydantic.dev/2.11/v/string_type\ngender\n  Input should be a valid string [type=string_type, input_value=11, input_type=int]\n    For further information visit https://errors.pydantic.dev/2.11/v/string_type\nage\n  Input should be a valid integer, unable to parse string as an integer [type=int_parsing, input_value='Anna', input_type=str]\n    For further information visit https://errors.pydantic.dev/2.11/v/int_parsing"
     ]
    }
   ],
   "source": [
    "p8 = Person(name = 11, gender = 11, age = \"Anna\")\n",
    "p8"
   ]
  },
  {
   "cell_type": "code",
   "execution_count": 35,
   "id": "b87659af",
   "metadata": {},
   "outputs": [
    {
     "name": "stdout",
     "output_type": "stream",
     "text": [
      "2 validation errors for Person\n",
      "name\n",
      "  Input should be a valid string [type=string_type, input_value=3.1415, input_type=float]\n",
      "    For further information visit https://errors.pydantic.dev/2.11/v/string_type\n",
      "gender\n",
      "  Input should be a valid string [type=string_type, input_value=2.7, input_type=float]\n",
      "    For further information visit https://errors.pydantic.dev/2.11/v/string_type\n"
     ]
    }
   ],
   "source": [
    "from pydantic import ValidationError\n",
    "try:\n",
    "    Person(name = 3.1415, gender = 2.7, age = -5)\n",
    "except ValidationError as err:\n",
    "    print(err)"
   ]
  },
  {
   "cell_type": "code",
   "execution_count": 37,
   "id": "e5db586e",
   "metadata": {},
   "outputs": [
    {
     "name": "stdout",
     "output_type": "stream",
     "text": [
      "1 validation error for Person\n",
      "gender\n",
      "  Input should be a valid string [type=string_type, input_value=111, input_type=int]\n",
      "    For further information visit https://errors.pydantic.dev/2.11/v/string_type\n"
     ]
    }
   ],
   "source": [
    "try:\n",
    "    Person(name = \"Susanne\", gender = 111, age = -5)\n",
    "except ValidationError as err:\n",
    "    print(err)"
   ]
  },
  {
   "cell_type": "code",
   "execution_count": 38,
   "id": "d1f51195",
   "metadata": {},
   "outputs": [],
   "source": [
    "from pydantic import Field\n",
    "\n",
    "class Person(BaseModel):\n",
    "    name: str\n",
    "    gender: str\n",
    "    age: int = Field(gt = -1, lt= 125)"
   ]
  },
  {
   "cell_type": "code",
   "execution_count": 41,
   "id": "18b896cd",
   "metadata": {},
   "outputs": [
    {
     "name": "stdout",
     "output_type": "stream",
     "text": [
      "3 validation errors for Person\n",
      "name\n",
      "  Input should be a valid string [type=string_type, input_value=11, input_type=int]\n",
      "    For further information visit https://errors.pydantic.dev/2.11/v/string_type\n",
      "gender\n",
      "  Input should be a valid string [type=string_type, input_value=11, input_type=int]\n",
      "    For further information visit https://errors.pydantic.dev/2.11/v/string_type\n",
      "age\n",
      "  Input should be less than 125 [type=less_than, input_value='127', input_type=str]\n",
      "    For further information visit https://errors.pydantic.dev/2.11/v/less_than\n"
     ]
    }
   ],
   "source": [
    "try:\n",
    "    p9 = Person(name = 11, gender = 11, age = \"127\")\n",
    "\n",
    "except ValidationError as err:\n",
    "    print(err)\n",
    "\n"
   ]
  },
  {
   "cell_type": "code",
   "execution_count": null,
   "id": "8c73f188",
   "metadata": {},
   "outputs": [],
   "source": [
    "from typing import Literal  # t.ex. när en person ska fylla i sin  mailadress\n",
    "\n",
    "class Person(BaseModel):\n",
    "    name: str\n",
    "    gender: Literal[\"M\", \"F\"]\n",
    "    age: int = Field(gt = -1, lt= 125)"
   ]
  },
  {
   "cell_type": "code",
   "execution_count": 46,
   "id": "8867ef3f",
   "metadata": {},
   "outputs": [
    {
     "data": {
      "text/plain": [
       "Person(name='Anna', gender='F', age=27)"
      ]
     },
     "execution_count": 46,
     "metadata": {},
     "output_type": "execute_result"
    }
   ],
   "source": [
    "try:\n",
    "    p9 = Person(name = \"Anna\", gender = \"F\", age = \"27\")\n",
    "\n",
    "except ValidationError as err:\n",
    "    print(err)\n",
    "\n",
    "p9"
   ]
  },
  {
   "cell_type": "markdown",
   "id": "ad5394ba",
   "metadata": {},
   "source": [
    "skriva ut instansen som en dict"
   ]
  },
  {
   "cell_type": "code",
   "execution_count": 50,
   "id": "dce180e8",
   "metadata": {},
   "outputs": [
    {
     "data": {
      "text/plain": [
       "Person(name='Josefina', gender='F', age=27)"
      ]
     },
     "execution_count": 50,
     "metadata": {},
     "output_type": "execute_result"
    }
   ],
   "source": [
    "p10 = Person(name = \"Josefina\", gender = \"F\", age = \"27\")\n",
    "\n",
    "p10.model_dump() #Skriver ut instansen som en dictionary\n",
    "p10"
   ]
  },
  {
   "cell_type": "markdown",
   "id": "802ddb76",
   "metadata": {},
   "source": [
    "Skriva ut instansen i json-format (dubbelkolla denna - ser inte ut att funka!)   \n",
    "api\n",
    "\n",
    "Vet vi att datan från ett api skickas i json-format kan vi använda pydantic för validering. "
   ]
  },
  {
   "cell_type": "code",
   "execution_count": 52,
   "id": "73d5a1a0",
   "metadata": {},
   "outputs": [
    {
     "name": "stdout",
     "output_type": "stream",
     "text": [
      "{\"name\":\"Josefina\",\"gender\":\"F\",\"age\":27}\n"
     ]
    }
   ],
   "source": [
    "print(p10.model_dump_json())"
   ]
  }
 ],
 "metadata": {
  "kernelspec": {
   "display_name": "venv",
   "language": "python",
   "name": "python3"
  },
  "language_info": {
   "codemirror_mode": {
    "name": "ipython",
    "version": 3
   },
   "file_extension": ".py",
   "mimetype": "text/x-python",
   "name": "python",
   "nbconvert_exporter": "python",
   "pygments_lexer": "ipython3",
   "version": "3.13.3"
  }
 },
 "nbformat": 4,
 "nbformat_minor": 5
}
