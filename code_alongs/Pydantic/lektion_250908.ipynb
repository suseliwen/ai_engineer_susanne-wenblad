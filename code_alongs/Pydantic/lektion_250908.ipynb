{
 "cells": [
  {
   "cell_type": "markdown",
   "id": "eb18b48a",
   "metadata": {},
   "source": [
    "### Lektion 250908 - Pydantic"
   ]
  },
  {
   "cell_type": "code",
   "execution_count": null,
   "id": "9fe5b3a9",
   "metadata": {},
   "outputs": [
    {
     "data": {
      "text/plain": [
       "GenerateContentResponse(\n",
       "  automatic_function_calling_history=[],\n",
       "  candidates=[\n",
       "    Candidate(\n",
       "      content=Content(\n",
       "        parts=[\n",
       "          Part(\n",
       "            text=\"\"\"Absolut! Här är en klassiker:\n",
       "\n",
       "---\n",
       "\n",
       "Det finns 10 typer av människor i världen:\n",
       "De som förstår binärt, och de som inte gör det.\n",
       "\n",
       "---\n",
       "\n",
       "(För den som inte förstår: \"10\" i binärt system är detsamma som \"2\" i decimalsystemet.)\"\"\"\n",
       "          ),\n",
       "        ],\n",
       "        role='model'\n",
       "      ),\n",
       "      finish_reason=<FinishReason.STOP: 'STOP'>,\n",
       "      index=0\n",
       "    ),\n",
       "  ],\n",
       "  model_version='gemini-2.5-flash',\n",
       "  response_id='342-aMTYK7Dfxs0P7aPi0Qc',\n",
       "  sdk_http_response=HttpResponse(\n",
       "    headers=<dict len=11>\n",
       "  ),\n",
       "  usage_metadata=GenerateContentResponseUsageMetadata(\n",
       "    candidates_token_count=69,\n",
       "    prompt_token_count=9,\n",
       "    prompt_tokens_details=[\n",
       "      ModalityTokenCount(\n",
       "        modality=<MediaModality.TEXT: 'TEXT'>,\n",
       "        token_count=9\n",
       "      ),\n",
       "    ],\n",
       "    thoughts_token_count=1021,\n",
       "    total_token_count=1099\n",
       "  )\n",
       ")"
      ]
     },
     "execution_count": 11,
     "metadata": {},
     "output_type": "execute_result"
    }
   ],
   "source": [
    "#from dotenv import load_dotenv\n",
    "from google import genai\n",
    "\n",
    "#load_dotenv()\n",
    "\n",
    "client = genai.Client()\n",
    "\n",
    "#os.getenv(\"GEMINI_API_KEY\") - behövs inte om api-nyckeln är döpt enligt rätt format. \n",
    "\n",
    "response = client.models.generate_content(\n",
    "    model = \"gemini-2.5-flash\", contents = \"Tell me a programming joke in swedish\"\n",
    ")\n",
    "\n",
    "response"
   ]
  },
  {
   "cell_type": "code",
   "execution_count": 13,
   "id": "3bd7193c",
   "metadata": {},
   "outputs": [
    {
     "name": "stdout",
     "output_type": "stream",
     "text": [
      "Absolut! Här är en klassiker:\n",
      "\n",
      "---\n",
      "\n",
      "Det finns 10 typer av människor i världen:\n",
      "De som förstår binärt, och de som inte gör det.\n",
      "\n",
      "---\n",
      "\n",
      "(För den som inte förstår: \"10\" i binärt system är detsamma som \"2\" i decimalsystemet.)\n"
     ]
    }
   ],
   "source": [
    "print(response.text)"
   ]
  },
  {
   "cell_type": "code",
   "execution_count": 15,
   "id": "4ed93456",
   "metadata": {},
   "outputs": [
    {
     "data": {
      "text/plain": [
       "'Hallå där! Gött att du frågar, la! Klart man kan dra till med en rolig historia. Här får du en som är ganska klassisk, men den funkar alltid:\\n\\n---\\n\\nDet var en stockholmare som kom till Göteborg och träffade en göteborgare på stan.\\n\\nStockholmaren säger: \"Ursäkta, jag har funderat lite. Varför säger ni göteborgare alltid \\'la\\' efter nästan varenda mening?\"\\n\\nGöteborgaren kliar sig i huvet, tänker efter en stund och säger:\\n\"Ja, du... det ä ju bara så det är la! Vad skulle det annars va la?\"\\n\\n---\\n\\nJa, det ä la så det är! Hoppas du fick dig ett gott skratt nu, la! Ha det gött!'"
      ]
     },
     "execution_count": 15,
     "metadata": {},
     "output_type": "execute_result"
    }
   ],
   "source": [
    "#funktion för att göra det enklare\n",
    "\n",
    "def ask_LLM(prompt): \n",
    "    response = client.models.generate_content(\n",
    "        model = \"gemini-2.5-flash\", \n",
    "        contents = prompt\n",
    "    )\n",
    "    return response.text\n",
    "\n",
    "ask_LLM(\"Du är en göteborgare, ge mig ett kul skämt\")"
   ]
  },
  {
   "cell_type": "markdown",
   "id": "545dc299",
   "metadata": {},
   "source": [
    "### Try to get data from LLM"
   ]
  },
  {
   "cell_type": "code",
   "execution_count": 18,
   "id": "37ae3085",
   "metadata": {},
   "outputs": [
    {
     "name": "stdout",
     "output_type": "stream",
     "text": [
      "[\n",
      "    {\n",
      "        \"adress\": \"Fleminggatan 23B\",\n",
      "        \"pris\": 4850000,\n",
      "        \"stad\": \"Stockholm\",\n",
      "        \"avgift\": 3800,\n",
      "        \"boarea\": \"58 kvm\"\n",
      "    },\n",
      "    {\n",
      "        \"adress\": \"Linnégatan 12\",\n",
      "        \"pris\": 3950000,\n",
      "        \"stad\": \"Göteborg\",\n",
      "        \"avgift\": 3450,\n",
      "        \"boarea\": \"72 kvm\"\n",
      "    },\n",
      "    {\n",
      "        \"adress\": \"Östra Rönneholmsvägen 17\",\n",
      "        \"pris\": 2750000,\n",
      "        \"stad\": \"Malmö\",\n",
      "        \"avgift\": 2900,\n",
      "        \"boarea\": \"65 kvm\"\n",
      "    },\n",
      "    {\n",
      "        \"adress\": \"Svartbäcksgatan 44\",\n",
      "        \"pris\": 2295000,\n",
      "        \"stad\": \"Uppsala\",\n",
      "        \"avgift\": 3200,\n",
      "        \"boarea\": \"50 kvm\"\n",
      "    },\n",
      "    {\n",
      "        \"adress\": \"Storgatan 8C\",\n",
      "        \"pris\": 1895000,\n",
      "        \"stad\": \"Örebro\",\n",
      "        \"avgift\": 2850,\n",
      "        \"boarea\": \"75 kvm\"\n",
      "    }\n",
      "]\n"
     ]
    }
   ],
   "source": [
    "\n",
    "\n",
    "response = ask_LLM(\"\"\"\n",
    "Du är en expert inom köp och sälj inom bostäder, likt en proffsig mäklare.                    \n",
    "Generera bostadspriser, månadsavgifter, adress och stad i jsonformat (ej markdown)\n",
    "                   \n",
    "    Exempel:\n",
    "        {   \"adress\": \"Fågelvägen 5\",\n",
    "            \"pris\": 3000000,\n",
    "            \"stad\": \"Göteborg,\n",
    "            \"avgift\": 4000,\n",
    "            \"boarea\": 60 kvm\n",
    "        }   \n",
    "     Ge mig en lista på 5 bostäder.\n",
    "                   \n",
    "\"\"\")\n",
    "print(response)\n"
   ]
  }
 ],
 "metadata": {
  "kernelspec": {
   "display_name": "venv",
   "language": "python",
   "name": "python3"
  },
  "language_info": {
   "codemirror_mode": {
    "name": "ipython",
    "version": 3
   },
   "file_extension": ".py",
   "mimetype": "text/x-python",
   "name": "python",
   "nbconvert_exporter": "python",
   "pygments_lexer": "ipython3",
   "version": "3.13.3"
  }
 },
 "nbformat": 4,
 "nbformat_minor": 5
}
