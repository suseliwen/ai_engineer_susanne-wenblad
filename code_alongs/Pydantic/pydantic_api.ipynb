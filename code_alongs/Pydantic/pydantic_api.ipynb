{
 "cells": [
  {
   "cell_type": "markdown",
   "id": "659da5d4",
   "metadata": {},
   "source": [
    "### Pydantic ❤️ API\n",
    "\n",
    "Använd pydantic för att validera API-data och arbeta med i OOP"
   ]
  },
  {
   "cell_type": "code",
   "execution_count": 28,
   "id": "2deaa9fd",
   "metadata": {},
   "outputs": [
    {
     "data": {
      "text/plain": [
       "dict_keys(['count', 'next', 'previous', 'results'])"
      ]
     },
     "execution_count": 28,
     "metadata": {},
     "output_type": "execute_result"
    }
   ],
   "source": [
    "import requests\n",
    "\n",
    "data = requests.get(\"https://pokeapi.co/api/v2/pokemon?limit=20\").json()\n",
    "\n",
    "data.keys()\n",
    "\n",
    "#results = keyvalue"
   ]
  },
  {
   "cell_type": "code",
   "execution_count": 29,
   "id": "d9a6accd",
   "metadata": {},
   "outputs": [
    {
     "data": {
      "text/plain": [
       "[{'name': 'bulbasaur', 'url': 'https://pokeapi.co/api/v2/pokemon/1/'},\n",
       " {'name': 'ivysaur', 'url': 'https://pokeapi.co/api/v2/pokemon/2/'},\n",
       " {'name': 'venusaur', 'url': 'https://pokeapi.co/api/v2/pokemon/3/'},\n",
       " {'name': 'charmander', 'url': 'https://pokeapi.co/api/v2/pokemon/4/'},\n",
       " {'name': 'charmeleon', 'url': 'https://pokeapi.co/api/v2/pokemon/5/'}]"
      ]
     },
     "execution_count": 29,
     "metadata": {},
     "output_type": "execute_result"
    }
   ],
   "source": [
    "data[\"results\"][:5]"
   ]
  },
  {
   "cell_type": "code",
   "execution_count": 30,
   "id": "cc4c728d",
   "metadata": {},
   "outputs": [
    {
     "data": {
      "text/plain": [
       "20"
      ]
     },
     "execution_count": 30,
     "metadata": {},
     "output_type": "execute_result"
    }
   ],
   "source": [
    "len(data[\"results\"])"
   ]
  },
  {
   "cell_type": "markdown",
   "id": "ff9dbdc5",
   "metadata": {},
   "source": [
    "### Deserialization - turn json object into pydantic model"
   ]
  },
  {
   "cell_type": "code",
   "execution_count": 31,
   "id": "6f93f2d0",
   "metadata": {},
   "outputs": [
    {
     "data": {
      "text/plain": [
       "dict_keys(['count', 'next', 'previous', 'results'])"
      ]
     },
     "execution_count": 31,
     "metadata": {},
     "output_type": "execute_result"
    }
   ],
   "source": [
    "data.keys()\n"
   ]
  },
  {
   "cell_type": "markdown",
   "id": "50b64bc9",
   "metadata": {},
   "source": [
    "- data has a key => reset_defaults\n",
    "- inside of results it has value of a list of dictionaries\n",
    "- another key called count\n",
    "\n",
    "choose the fields that you want to include"
   ]
  },
  {
   "cell_type": "code",
   "execution_count": 32,
   "id": "e23b7d9e",
   "metadata": {},
   "outputs": [
    {
     "name": "stdout",
     "output_type": "stream",
     "text": [
      "{'count': 1302,\n",
      " 'results': [{'name': 'bulbasaur',\n",
      "              'url': 'https://pokeapi.co/api/v2/pokemon/1/'},\n",
      "             {'name': 'ivysaur', 'url': 'https://pokeapi.co/api/v2/pokemon/2/'},\n",
      "             {'name': 'venusaur',\n",
      "              'url': 'https://pokeapi.co/api/v2/pokemon/3/'},\n",
      "             {'name': 'charmander',\n",
      "              'url': 'https://pokeapi.co/api/v2/pokemon/4/'},\n",
      "             {'name': 'charmeleon',\n",
      "              'url': 'https://pokeapi.co/api/v2/pokemon/5/'},\n",
      "             {'name': 'charizard',\n",
      "              'url': 'https://pokeapi.co/api/v2/pokemon/6/'},\n",
      "             {'name': 'squirtle',\n",
      "              'url': 'https://pokeapi.co/api/v2/pokemon/7/'},\n",
      "             {'name': 'wartortle',\n",
      "              'url': 'https://pokeapi.co/api/v2/pokemon/8/'},\n",
      "             {'name': 'blastoise',\n",
      "              'url': 'https://pokeapi.co/api/v2/pokemon/9/'},\n",
      "             {'name': 'caterpie',\n",
      "              'url': 'https://pokeapi.co/api/v2/pokemon/10/'},\n",
      "             {'name': 'metapod',\n",
      "              'url': 'https://pokeapi.co/api/v2/pokemon/11/'},\n",
      "             {'name': 'butterfree',\n",
      "              'url': 'https://pokeapi.co/api/v2/pokemon/12/'},\n",
      "             {'name': 'weedle', 'url': 'https://pokeapi.co/api/v2/pokemon/13/'},\n",
      "             {'name': 'kakuna', 'url': 'https://pokeapi.co/api/v2/pokemon/14/'},\n",
      "             {'name': 'beedrill',\n",
      "              'url': 'https://pokeapi.co/api/v2/pokemon/15/'},\n",
      "             {'name': 'pidgey', 'url': 'https://pokeapi.co/api/v2/pokemon/16/'},\n",
      "             {'name': 'pidgeotto',\n",
      "              'url': 'https://pokeapi.co/api/v2/pokemon/17/'},\n",
      "             {'name': 'pidgeot',\n",
      "              'url': 'https://pokeapi.co/api/v2/pokemon/18/'},\n",
      "             {'name': 'rattata',\n",
      "              'url': 'https://pokeapi.co/api/v2/pokemon/19/'},\n",
      "             {'name': 'raticate',\n",
      "              'url': 'https://pokeapi.co/api/v2/pokemon/20/'}]}\n"
     ]
    },
    {
     "data": {
      "text/plain": [
       "PokemonListresponse(results=[{'name': 'bulbasaur', 'url': 'https://pokeapi.co/api/v2/pokemon/1/'}, {'name': 'ivysaur', 'url': 'https://pokeapi.co/api/v2/pokemon/2/'}, {'name': 'venusaur', 'url': 'https://pokeapi.co/api/v2/pokemon/3/'}, {'name': 'charmander', 'url': 'https://pokeapi.co/api/v2/pokemon/4/'}, {'name': 'charmeleon', 'url': 'https://pokeapi.co/api/v2/pokemon/5/'}, {'name': 'charizard', 'url': 'https://pokeapi.co/api/v2/pokemon/6/'}, {'name': 'squirtle', 'url': 'https://pokeapi.co/api/v2/pokemon/7/'}, {'name': 'wartortle', 'url': 'https://pokeapi.co/api/v2/pokemon/8/'}, {'name': 'blastoise', 'url': 'https://pokeapi.co/api/v2/pokemon/9/'}, {'name': 'caterpie', 'url': 'https://pokeapi.co/api/v2/pokemon/10/'}, {'name': 'metapod', 'url': 'https://pokeapi.co/api/v2/pokemon/11/'}, {'name': 'butterfree', 'url': 'https://pokeapi.co/api/v2/pokemon/12/'}, {'name': 'weedle', 'url': 'https://pokeapi.co/api/v2/pokemon/13/'}, {'name': 'kakuna', 'url': 'https://pokeapi.co/api/v2/pokemon/14/'}, {'name': 'beedrill', 'url': 'https://pokeapi.co/api/v2/pokemon/15/'}, {'name': 'pidgey', 'url': 'https://pokeapi.co/api/v2/pokemon/16/'}, {'name': 'pidgeotto', 'url': 'https://pokeapi.co/api/v2/pokemon/17/'}, {'name': 'pidgeot', 'url': 'https://pokeapi.co/api/v2/pokemon/18/'}, {'name': 'rattata', 'url': 'https://pokeapi.co/api/v2/pokemon/19/'}, {'name': 'raticate', 'url': 'https://pokeapi.co/api/v2/pokemon/20/'}], count=1302)"
      ]
     },
     "execution_count": 32,
     "metadata": {},
     "output_type": "execute_result"
    }
   ],
   "source": [
    "from pydantic import BaseModel\n",
    "from pprint import pprint   # för snyggare utskrift\n",
    "\n",
    "class PokemonListresponse(BaseModel):\n",
    "    results : list[dict]\n",
    "    count: int\n",
    "\n",
    "\n",
    "#Ta datan och validera\n",
    "pokemons = PokemonListresponse.model_validate(data) #=>returnerar en pokemon-list\n",
    "pprint(pokemons.model_dump())\n",
    "pokemons"
   ]
  },
  {
   "cell_type": "code",
   "execution_count": 33,
   "id": "2aee5add",
   "metadata": {},
   "outputs": [
    {
     "data": {
      "text/plain": [
       "1302"
      ]
     },
     "execution_count": 33,
     "metadata": {},
     "output_type": "execute_result"
    }
   ],
   "source": [
    "pokemons.count"
   ]
  },
  {
   "cell_type": "code",
   "execution_count": 34,
   "id": "7111a7e3",
   "metadata": {},
   "outputs": [
    {
     "data": {
      "text/plain": [
       "[{'name': 'bulbasaur', 'url': 'https://pokeapi.co/api/v2/pokemon/1/'},\n",
       " {'name': 'ivysaur', 'url': 'https://pokeapi.co/api/v2/pokemon/2/'},\n",
       " {'name': 'venusaur', 'url': 'https://pokeapi.co/api/v2/pokemon/3/'},\n",
       " {'name': 'charmander', 'url': 'https://pokeapi.co/api/v2/pokemon/4/'},\n",
       " {'name': 'charmeleon', 'url': 'https://pokeapi.co/api/v2/pokemon/5/'},\n",
       " {'name': 'charizard', 'url': 'https://pokeapi.co/api/v2/pokemon/6/'},\n",
       " {'name': 'squirtle', 'url': 'https://pokeapi.co/api/v2/pokemon/7/'},\n",
       " {'name': 'wartortle', 'url': 'https://pokeapi.co/api/v2/pokemon/8/'},\n",
       " {'name': 'blastoise', 'url': 'https://pokeapi.co/api/v2/pokemon/9/'},\n",
       " {'name': 'caterpie', 'url': 'https://pokeapi.co/api/v2/pokemon/10/'},\n",
       " {'name': 'metapod', 'url': 'https://pokeapi.co/api/v2/pokemon/11/'},\n",
       " {'name': 'butterfree', 'url': 'https://pokeapi.co/api/v2/pokemon/12/'},\n",
       " {'name': 'weedle', 'url': 'https://pokeapi.co/api/v2/pokemon/13/'},\n",
       " {'name': 'kakuna', 'url': 'https://pokeapi.co/api/v2/pokemon/14/'},\n",
       " {'name': 'beedrill', 'url': 'https://pokeapi.co/api/v2/pokemon/15/'},\n",
       " {'name': 'pidgey', 'url': 'https://pokeapi.co/api/v2/pokemon/16/'},\n",
       " {'name': 'pidgeotto', 'url': 'https://pokeapi.co/api/v2/pokemon/17/'},\n",
       " {'name': 'pidgeot', 'url': 'https://pokeapi.co/api/v2/pokemon/18/'},\n",
       " {'name': 'rattata', 'url': 'https://pokeapi.co/api/v2/pokemon/19/'},\n",
       " {'name': 'raticate', 'url': 'https://pokeapi.co/api/v2/pokemon/20/'}]"
      ]
     },
     "execution_count": 34,
     "metadata": {},
     "output_type": "execute_result"
    }
   ],
   "source": [
    "pokemons.results"
   ]
  },
  {
   "cell_type": "markdown",
   "id": "8953af53",
   "metadata": {},
   "source": [
    "Vad är @computed_field i Pydantic?\n",
    "\n",
    "- En computed field är ett fält som beräknas automatiskt utifrån andra fält i din modell.\n",
    "- Det lagras alltså inte i din input-data, utan räknas fram när du använder modellen.\n",
    "\n",
    "Här händer detta:\n",
    "\n",
    "- results innehåller en lista med Pokémon (från API:t).\n",
    "- count är ett heltal (som också kan komma från API:t).\n",
    "- number_stored_pokemons räknas automatiskt ut = hur många Pokémon ligger i results just nu?\n",
    "\n",
    "Syftet med @computed_field\n",
    "\n",
    "✅ Du slipper räkna saker själv varje gång.\n",
    "\n",
    "✅ Modellen blir självdokumenterande (du kan alltid fråga modellen \"hur många Pokémon finns sparade?\").\n",
    "\n",
    "✅ När du gör model_dump() eller model_dump_json() så ingår computed fields i output – till skillnad från vanliga metoder/properties."
   ]
  },
  {
   "cell_type": "code",
   "execution_count": 37,
   "id": "983787e3",
   "metadata": {},
   "outputs": [
    {
     "data": {
      "text/plain": [
       "PokemonListresponse(results=[{'name': 'bulbasaur', 'url': 'https://pokeapi.co/api/v2/pokemon/1/'}, {'name': 'ivysaur', 'url': 'https://pokeapi.co/api/v2/pokemon/2/'}, {'name': 'venusaur', 'url': 'https://pokeapi.co/api/v2/pokemon/3/'}, {'name': 'charmander', 'url': 'https://pokeapi.co/api/v2/pokemon/4/'}, {'name': 'charmeleon', 'url': 'https://pokeapi.co/api/v2/pokemon/5/'}, {'name': 'charizard', 'url': 'https://pokeapi.co/api/v2/pokemon/6/'}, {'name': 'squirtle', 'url': 'https://pokeapi.co/api/v2/pokemon/7/'}, {'name': 'wartortle', 'url': 'https://pokeapi.co/api/v2/pokemon/8/'}, {'name': 'blastoise', 'url': 'https://pokeapi.co/api/v2/pokemon/9/'}, {'name': 'caterpie', 'url': 'https://pokeapi.co/api/v2/pokemon/10/'}, {'name': 'metapod', 'url': 'https://pokeapi.co/api/v2/pokemon/11/'}, {'name': 'butterfree', 'url': 'https://pokeapi.co/api/v2/pokemon/12/'}, {'name': 'weedle', 'url': 'https://pokeapi.co/api/v2/pokemon/13/'}, {'name': 'kakuna', 'url': 'https://pokeapi.co/api/v2/pokemon/14/'}, {'name': 'beedrill', 'url': 'https://pokeapi.co/api/v2/pokemon/15/'}, {'name': 'pidgey', 'url': 'https://pokeapi.co/api/v2/pokemon/16/'}, {'name': 'pidgeotto', 'url': 'https://pokeapi.co/api/v2/pokemon/17/'}, {'name': 'pidgeot', 'url': 'https://pokeapi.co/api/v2/pokemon/18/'}, {'name': 'rattata', 'url': 'https://pokeapi.co/api/v2/pokemon/19/'}, {'name': 'raticate', 'url': 'https://pokeapi.co/api/v2/pokemon/20/'}], count=1302, number_stored_pokemons=20)"
      ]
     },
     "execution_count": 37,
     "metadata": {},
     "output_type": "execute_result"
    }
   ],
   "source": [
    "from pydantic import computed_field\n",
    "\n",
    "\n",
    "class PokemonListresponse(BaseModel):\n",
    "    results : list[dict]\n",
    "    count: int\n",
    "\n",
    "    @computed_field \n",
    "    @property\n",
    "    def number_stored_pokemons(self) -> int:\n",
    "        return len(self.results)\n",
    "\n",
    "pokemons = PokemonListresponse.model_validate(data)\n",
    "#pokemons.number_stored_pokemons\n",
    "pokemons"
   ]
  },
  {
   "cell_type": "markdown",
   "id": "b900110f",
   "metadata": {},
   "source": [
    "pydantic model => json"
   ]
  },
  {
   "cell_type": "code",
   "execution_count": 36,
   "id": "fb27cf03",
   "metadata": {},
   "outputs": [],
   "source": [
    "#serialize into json\n",
    "with open(\"pokemons.json\", \"w\") as file:\n",
    "    file.write(pokemons.model_dump_json(indent = 3))"
   ]
  }
 ],
 "metadata": {
  "kernelspec": {
   "display_name": "venv",
   "language": "python",
   "name": "python3"
  },
  "language_info": {
   "codemirror_mode": {
    "name": "ipython",
    "version": 3
   },
   "file_extension": ".py",
   "mimetype": "text/x-python",
   "name": "python",
   "nbconvert_exporter": "python",
   "pygments_lexer": "ipython3",
   "version": "3.13.3"
  }
 },
 "nbformat": 4,
 "nbformat_minor": 5
}
