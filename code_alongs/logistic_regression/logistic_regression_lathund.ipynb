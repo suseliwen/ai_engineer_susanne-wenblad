{
 "cells": [
  {
   "cell_type": "markdown",
   "id": "c750f357",
   "metadata": {},
   "source": [
    "### Lathund - logistisk regression\n",
    "\n",
    "1. Load data: få in data som DataFrame för enkel hantering.\n",
    "\n",
    "2. X/y: dela upp features och target.\n",
    "\n",
    "3. Split: mät generalisering (testdata ska vara “osedd”).\n",
    "\n",
    "4. Pipeline (Scaler + LR): skala först, träna sen – utan läckage.\n",
    "\n",
    "5. Accuracy/Rapport/CM: bedöm hur bra modellen är och var felen sker.\n",
    "\n",
    "6. Första 10 rader: få magkänsla för prediktion + säkerhet (P(max))."
   ]
  },
  {
   "cell_type": "markdown",
   "id": "35a286c8",
   "metadata": {},
   "source": [
    "### Steg 1: Ladda data till en DataFrame"
   ]
  },
  {
   "cell_type": "code",
   "execution_count": null,
   "id": "8f1a655d",
   "metadata": {},
   "outputs": [],
   "source": [
    "from sklearn.datasets import load_breast_cancer\n",
    "import pandas as pd\n",
    "\n",
    "bc = load_breast_cancer(as_frame = True)\n",
    "df = bc.frame.copy()\n"
   ]
  },
  {
   "cell_type": "code",
   "execution_count": null,
   "id": "3824177c",
   "metadata": {},
   "outputs": [],
   "source": [
    "df.head()"
   ]
  },
  {
   "cell_type": "code",
   "execution_count": null,
   "id": "829b5d2d",
   "metadata": {},
   "outputs": [],
   "source": [
    "df.info()"
   ]
  },
  {
   "cell_type": "code",
   "execution_count": null,
   "id": "b724b665",
   "metadata": {},
   "outputs": [],
   "source": [
    "X = df.drop(columns =[\"target\"])    # X = alla numeriska features\n",
    "y = df[\"target\"]                    # y = 0/1 (0 = malignant, 1 = benign)\n",
    "\n",
    "y.value_counts()"
   ]
  },
  {
   "cell_type": "code",
   "execution_count": null,
   "id": "0e9dacaa",
   "metadata": {},
   "outputs": [],
   "source": [
    "class_names = bc.target_names                                       # Från sklearn-datat får du ordnade klassnamn som en array:['malignant', 'benign']\n",
    "y_named = y.map({i: name for i, name in enumerate(class_names)})    # enumerate(class_names) ger par: (0, 'malignant'), (1, 'benign').\n",
    "\n",
    "print(\"X-shape:\", X.shape, \"  y-shape:\", y.shape)\n",
    "print(\"\\nKlassfördelning (namn):\")\n",
    "print(y_named.value_counts())\n",
    "\n",
    "df.head()"
   ]
  },
  {
   "cell_type": "markdown",
   "id": "9639ce25",
   "metadata": {},
   "source": [
    "### Steg 2: Train/Test-split + Pipeline (Scaler + Logistic Regression) + träna modellen   \n",
    "Varför detta steg?   \n",
    "\n",
    "- Split: vi behöver ett osett testset för rättvis utvärdering.  \n",
    "\n",
    "- Pipeline: skalar först, tränar sen — utan dataläckage.\n",
    "\n",
    "- fit: modellen lär vikter bara från TRAIN."
   ]
  },
  {
   "cell_type": "code",
   "execution_count": 26,
   "id": "0db2b7b7",
   "metadata": {},
   "outputs": [
    {
     "name": "stdout",
     "output_type": "stream",
     "text": [
      "Train size:  (426, 30) Test size:  (143, 30)\n",
      "Snabb train-accuracy:  0.988\n"
     ]
    }
   ],
   "source": [
    "from sklearn.model_selection import train_test_split\n",
    "from sklearn.pipeline import Pipeline\n",
    "from sklearn.preprocessing import StandardScaler\n",
    "from sklearn.linear_model import LogisticRegression\n",
    "\n",
    "# 1) Dela data (stratify=y bevarar klassbalansen mellan train/test)\n",
    "\n",
    "X_train, X_test, y_train, y_test = train_test_split(\n",
    "    X, y, test_size = 0.25, random_state = 42, stratify = y\n",
    ")\n",
    "\n",
    "# 2) Pipeline: standardisera features -> träna logistisk regression (binär)\n",
    "pipe = Pipeline([\n",
    "    (\"scaler\", StandardScaler()),           # lär medel/std på TRAIN (undviker läckage\n",
    "    (\"clf\", LogisticRegression(\n",
    "        solver = \"lbfgs\", max_iter = 1000   # stabilt, binärt läge som default\n",
    "    ))\n",
    "])\n",
    "\n",
    "# 3) Träna modellen på TRAIN\n",
    "pipe.fit(X_train, y_train)\n",
    "\n",
    "# 4) Liten sanity check\n",
    "print(\"Train size: \", X_train.shape, \"Test size: \", X_test.shape)\n",
    "\n",
    "print(\"Snabb train-accuracy: \", round(pipe.score(X_train, y_train), 3))"
   ]
  },
  {
   "cell_type": "markdown",
   "id": "79707ff8",
   "metadata": {},
   "source": [
    "### Steg 3: utvärdera modellen på TEST (rapport + confusion matrix)"
   ]
  },
  {
   "cell_type": "code",
   "execution_count": 20,
   "id": "1748a876",
   "metadata": {},
   "outputs": [
    {
     "name": "stdout",
     "output_type": "stream",
     "text": [
      "Accuracy (test):  0.986\n",
      "\n",
      "Classification report:\n",
      "\n",
      "              precision    recall  f1-score   support\n",
      "\n",
      "   malignant       0.98      0.98      0.98        53\n",
      "      benign       0.99      0.99      0.99        90\n",
      "\n",
      "    accuracy                           0.99       143\n",
      "   macro avg       0.99      0.99      0.99       143\n",
      "weighted avg       0.99      0.99      0.99       143\n",
      "\n"
     ]
    },
    {
     "data": {
      "image/png": "[encoded data removed]",
      "text/plain": [
       "<Figure size 640x480 with 2 Axes>"
      ]
     },
     "metadata": {},
     "output_type": "display_data"
    }
   ],
   "source": [
    "from sklearn.metrics import classification_report, confusion_matrix, ConfusionMatrixDisplay\n",
    "import matplotlib.pyplot as plt\n",
    "\n",
    "# 1) Prediktioner på testdatan\n",
    "y_pred = pipe.predict(X_test)\n",
    "\n",
    "# 2) Snabb siffra: accuracy på test\n",
    "print(\"Accuracy (test): \", round(pipe.score(X_test, y_test), 3))\n",
    "\n",
    "# 3) Klassificeringsrapport: precision, recall, F1 och support per klass\n",
    "print(\"\\nClassification report:\\n\")\n",
    "print(classification_report(y_test, y_pred, target_names = class_names))\n",
    "\n",
    "# 4) Confusion matrix: rader = verklig klass, kolumner = prediktion\n",
    "cm = confusion_matrix(y_test, y_pred)\n",
    "ConfusionMatrixDisplay(cm, display_labels = class_names). plot(cmap = \"Blues\")\n",
    "plt.title(\"Breast Cancer — Confusion Matrix (Logistic Regression)\")\n",
    "plt.tight_layout(); plt.show()"
   ]
  }
 ],
 "metadata": {
  "kernelspec": {
   "display_name": "venv",
   "language": "python",
   "name": "python3"
  },
  "language_info": {
   "codemirror_mode": {
    "name": "ipython",
    "version": 3
   },
   "file_extension": ".py",
   "mimetype": "text/x-python",
   "name": "python",
   "nbconvert_exporter": "python",
   "pygments_lexer": "ipython3",
   "version": "3.13.3"
  }
 },
 "nbformat": 4,
 "nbformat_minor": 5
}
